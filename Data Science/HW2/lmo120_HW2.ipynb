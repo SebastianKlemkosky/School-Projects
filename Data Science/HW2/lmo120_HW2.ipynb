{
  "cells": [
    {
      "cell_type": "markdown",
      "metadata": {
        "id": "7yABf1ygEuhs"
      },
      "source": [
        "# HW2 Matplotlib and Numpy (70 points)"
      ]
    },
    {
      "cell_type": "markdown",
      "metadata": {
        "id": "RPFMqQEEUq9k"
      },
      "source": [
        "## Electronic submission due 11:59pm, Fri 2/24`"
      ]
    },
    {
      "cell_type": "markdown",
      "metadata": {
        "id": "s0boxgGbFB9e"
      },
      "source": [
        "To complete this homework, you need to download the data file named gradebook.txt, which contain the grades of 100 students in a class. The data file contains 100 rows, each of which represents a student, and 20 columns: the first 10 columns are quizzes, the next 7 columns are homeworks, and the last three columns are exams. \n",
        "\n",
        "Complete the python script to analyze the data and produce several statistics and three figures (see example figures on the next page)."
      ]
    },
    {
      "cell_type": "code",
      "execution_count": 30,
      "metadata": {
        "id": "RNYHSMn8Fn2J"
      },
      "outputs": [],
      "source": [
        "import numpy as np\n",
        "import matplotlib.pyplot as plt\n",
        "import pandas as pd "
      ]
    },
    {
      "cell_type": "code",
      "execution_count": 39,
      "metadata": {
        "id": "APeSKVC8FpIT"
      },
      "outputs": [],
      "source": [
        "#%% load data file\n",
        "\n",
        "\n",
        "grades = pd.read_table('gradebook.txt', delimiter=' ', header=None).values\n",
        "\n",
        "\n"
      ]
    },
    {
      "cell_type": "code",
      "execution_count": 40,
      "metadata": {
        "colab": {
          "base_uri": "https://localhost:8080/"
        },
        "id": "Yjq5hpcOFsnO",
        "outputId": "48319276-f3a6-4604-be0a-f22f221b2692"
      },
      "outputs": [
        {
          "output_type": "stream",
          "name": "stdout",
          "text": [
            "Number of NaNs:  0\n",
            "Number of Negatives:  95\n",
            "Number of Zeros:  5\n"
          ]
        }
      ],
      "source": [
        "#%% 1. (5 points) Find out how many values in the array is negative or NaN, report the counts, and replace NaNs or negative values with 0.\n",
        "\n",
        "\n",
        "print('Number of NaNs: ', np.sum(np.isnan(grades)))\n",
        "print('Number of Negatives: ', np.sum(grades < 0))\n",
        "print('Number of Zeros: ', np.count_nonzero(grades == 0))\n",
        "\n",
        "\n",
        "grades = np.nan_to_num(grades)\n",
        "grades[grades < 0] = 0\n"
      ]
    },
    {
      "cell_type": "code",
      "execution_count": 41,
      "metadata": {
        "id": "cPF_UGwCF-Li",
        "colab": {
          "base_uri": "https://localhost:8080/",
          "height": 295
        },
        "outputId": "97bf04e6-181a-45b4-ab87-bb20416bc1c9"
      },
      "outputs": [
        {
          "output_type": "display_data",
          "data": {
            "image/png": "[encoded data removed]",
            "text/plain": [
              "<Figure size 432x288 with 1 Axes>"
            ]
          },
          "metadata": {
            "needs_background": "light"
          }
        }
      ],
      "source": [
        "#%% 2. (10 points) Generate a bar chart for the max of each column (20 bars).\n",
        "\n",
        "plt.figure(1)\n",
        "\n",
        "#Fill the barchart\n",
        "maxCol = grades.max(axis=0)\n",
        "num_rows_g, num_cols_g = grades.shape       #get the number of rows and cols in the grades matrix\n",
        "\n",
        "\n",
        "x_index = np.arange(num_cols_g, dtype=int)      #x axis index from number of columns\n",
        "\n",
        "plt.bar(x_index, maxCol)\n",
        "\n",
        "\n",
        "plt.xticks(np.arange(0, num_cols_g+1 ,5))\n",
        "\n",
        "plt.xlabel('Column Index')\n",
        "plt.ylabel('Max value')\n",
        "plt.title('Fig 1')\n",
        "plt.show()"
      ]
    },
    {
      "cell_type": "code",
      "execution_count": 42,
      "metadata": {
        "id": "uD6Fr12sGRD9",
        "colab": {
          "base_uri": "https://localhost:8080/",
          "height": 295
        },
        "outputId": "80f497ba-e488-4d97-f5a3-77e4dacd8d21"
      },
      "outputs": [
        {
          "output_type": "display_data",
          "data": {
            "image/png": "[encoded data removed]",
            "text/plain": [
              "<Figure size 432x288 with 1 Axes>"
            ]
          },
          "metadata": {
            "needs_background": "light"
          }
        }
      ],
      "source": [
        "#%% 3.\t(10 points) Generate a bar chart for the mean of each HW (7 bars).\n",
        "\n",
        "plt.figure(2)\n",
        "plt.xlabel('HW Index')\n",
        "plt.ylabel('Mean value')\n",
        "plt.title('Fig 2')\n",
        "\n",
        "\n",
        "#the first 10 columns are quizzes, the next 7 columns are homeworks, and the last three columns are exams.\n",
        "# Need to get an array of only homeworks\n",
        "\n",
        "hws = grades[:, 10:17]        #hws is a array of only hws \n",
        "num_rows_HW, num_cols_HW = hws.shape\n",
        "\n",
        "#Get the Mean of the 7 Homeworks from 20 students\n",
        "\n",
        "meanHW = hws.mean(axis=0)\n",
        "\n",
        "x_index = np.arange(num_cols_HW, dtype=int)\n",
        "\n",
        "plt.bar(x_index, meanHW)\n",
        "\n",
        "plt.show()\n",
        "\n"
      ]
    },
    {
      "cell_type": "code",
      "execution_count": 43,
      "metadata": {
        "id": "kh0SXzV8GXdi",
        "colab": {
          "base_uri": "https://localhost:8080/",
          "height": 295
        },
        "outputId": "7c8b6660-ca5c-467f-e231-75e8b4c08d18"
      },
      "outputs": [
        {
          "output_type": "display_data",
          "data": {
            "image/png": "[encoded data removed]",
            "text/plain": [
              "<Figure size 432x288 with 1 Axes>"
            ]
          },
          "metadata": {
            "needs_background": "light"
          }
        }
      ],
      "source": [
        "#%% 4.\t(10 points) Scatter plot the average of the two midterm exams exam against the final exam.\n",
        "plt.figure(3)\n",
        "\n",
        "#Get the average of both midterms\n",
        "midterms = grades[:, 17:19]\n",
        "\n",
        "avgMidterm = midterms.mean(axis=1)\n",
        "\n",
        "\n",
        "#Get the final \n",
        "final = grades[:, 19:20]\n",
        "\n",
        "plt.scatter(avgMidterm, final)\n",
        "\n",
        "\n",
        "plt.xlabel('Midterm Average')\n",
        "plt.ylabel('Final exam')\n",
        "plt.title('Fig 3')\n",
        "plt.show()\n"
      ]
    },
    {
      "cell_type": "code",
      "execution_count": 44,
      "metadata": {
        "id": "by9cbYIQGYhY",
        "colab": {
          "base_uri": "https://localhost:8080/"
        },
        "outputId": "2d7a0da1-0bd5-446d-b727-2a5e94d36595"
      },
      "outputs": [
        {
          "output_type": "stream",
          "name": "stdout",
          "text": [
            "Row index for the top-5 final exam scores: 3 29 2 14 1\n",
            "\n",
            "All exam scores for the top-5 final exam scores:\n",
            "[ 94 100  93]\n",
            "[83 84 92]\n",
            "[78 81 92]\n",
            "[78 85 91]\n",
            "[82 76 89]\n"
          ]
        }
      ],
      "source": [
        "#%% 5.\t(10 points). Sort the final exam score (last column) to find the row index with the top 5 highest scores and report. Also report their grades for the three exams.\n",
        "\n",
        "#Need to find 5 row indexes based on the highest exam score\n",
        "\n",
        "\n",
        "#sorted_grades = grades[np.argsort(grades[:, 19])[::-1]]\n",
        "#print(sorted_grades)\n",
        "\n",
        "final = grades[:, 19:20]\n",
        "\n",
        "indices = (-final).argsort(axis=0)[:5]\n",
        "\n",
        "\n",
        "\n",
        "print('Row index for the top-5 final exam scores:', *indices.flatten())\n",
        "\n",
        "\n",
        "#Report the exam scores for these 5 students\n",
        "\n",
        "print('\\nAll exam scores for the top-5 final exam scores:')\n",
        "\n",
        "exams = grades[:, 17:20]\n",
        "\n",
        "num_rows_i, num_cols_i = indices.shape          #Get useful info on the indices array\n",
        "\n",
        "\n",
        "for i in range(num_rows_i):                     #Iterate thru the flatten indices array and print exam array at that specific index\n",
        "  print(exams[indices.flatten()[i]])\n",
        "\n"
      ]
    },
    {
      "cell_type": "code",
      "execution_count": 45,
      "metadata": {
        "id": "0vrThvAHGZUo",
        "colab": {
          "base_uri": "https://localhost:8080/"
        },
        "outputId": "db21af2d-1e80-427c-aaff-3d35b7f52ff3"
      },
      "outputs": [
        {
          "output_type": "stream",
          "name": "stdout",
          "text": [
            "Statistics  for final grade:\n",
            "\tmax:  97.0\n",
            "\tmin:  60.0\n",
            "\tmedian:  85.0\n",
            "\tmean:  83.41\n",
            "\tstd:  7.877937547353368\n"
          ]
        }
      ],
      "source": [
        "#%% 6.\t(15 points) Compute a final weighted average score of each student: divide each column by the max of that column and then multiple by 100; \n",
        "# and then compute a weighted average where each quiz counts 2%, each hw counts 5%, exam 1 and 2 each of which counts 10%, \n",
        "# and the final exam counts 25%. \n",
        "# Round the final score to the nearest integer. Report the following statistics for the final scores: max, min, median, mean, standard deviation.\n",
        "\n",
        "maxCol = grades.max(axis=0)           #get the max of each column\n",
        "\n",
        "gAvg = (grades / maxCol) * 100        #Divde each column by the max of that column then multiply by 100\n",
        "\n",
        "#Compute the weighted average\n",
        "                                            #10 quizes, 7 Homeworks, 2 Midterms and 1 final\n",
        "wAvg = np.average(gAvg, axis = 1, weights = [0.02, 0.02, 0.02, 0.02, 0.02, 0.02, 0.02, 0.02, 0.02, 0.02, \n",
        "                                             0.05, 0.05, 0.05, 0.05, 0.05, 0.05, 0.05,\n",
        "                                             0.1, 0.1, 0.25])\n",
        "rWAvg = np.rint(wAvg)                       #Round the weighted Average\n",
        "#print(rWAvg)\n",
        "\n",
        "print('Statistics  for final grade:')\n",
        "print('\\tmax: ', rWAvg.max())\n",
        "print('\\tmin: ', rWAvg.min())\n",
        "print('\\tmedian: ', np.median(rWAvg))\n",
        "print('\\tmean: ', np.mean(rWAvg))\n",
        "print('\\tstd: ', np.std(rWAvg))\n"
      ]
    },
    {
      "cell_type": "code",
      "execution_count": 47,
      "metadata": {
        "id": "BexmuunvGaVR",
        "colab": {
          "base_uri": "https://localhost:8080/",
          "height": 295
        },
        "outputId": "619ee8d1-3328-43f3-e43a-38d2acffbd23"
      },
      "outputs": [
        {
          "output_type": "display_data",
          "data": {
            "image/png": "[encoded data removed]",
            "text/plain": [
              "<Figure size 432x288 with 1 Axes>"
            ]
          },
          "metadata": {
            "needs_background": "light"
          }
        }
      ],
      "source": [
        "#%% 7.\t(10 points) Count the number students whose final score is in the following range: < 60; >=60 and < 70, >=70 and < 80, >=80 and < 90, and >= 90, and plot the counts as a bar chart.\n",
        "\n",
        "plt.figure(4)\n",
        "\n",
        "#Need to get final score then count how many fit in each range\n",
        "\n",
        "\n",
        "lessThanSixty = np.count_nonzero((rWAvg < 60))\n",
        "sixtyToSeventy = np.count_nonzero((60 <= rWAvg) & (rWAvg < 70))\n",
        "seventyToEighty = np.count_nonzero((70 <= rWAvg) & (rWAvg < 80))\n",
        "eightyToNinety = np.count_nonzero((80 <= rWAvg) & (rWAvg < 90))\n",
        "greaterThanNinety = np.count_nonzero((rWAvg >= 90))\n",
        "\n",
        "scoreCount = np.array([lessThanSixty, sixtyToSeventy, seventyToEighty, eightyToNinety, greaterThanNinety])\n",
        "\n",
        "categories = ('<60', '[60,70)', '[70,80)', '[80,90)', '>= 90')\n",
        "\n",
        "plt.bar(categories, scoreCount)\n",
        " \n",
        "plt.xticks(range(5), categories)\n",
        "plt.ylabel('Number of students')\n",
        "plt.xlabel('Final score')\n",
        "plt.title('Fig 4')\n",
        "plt.show()\n"
      ]
    }
  ],
  "metadata": {
    "colab": {
      "name": "lmo120_HW2.ipynb",
      "provenance": [],
      "collapsed_sections": []
    },
    "kernelspec": {
      "display_name": "Python 3",
      "language": "python",
      "name": "python3"
    },
    "language_info": {
      "codemirror_mode": {
        "name": "ipython",
        "version": 3
      },
      "file_extension": ".py",
      "mimetype": "text/x-python",
      "name": "python",
      "nbconvert_exporter": "python",
      "pygments_lexer": "ipython3",
      "version": "3.8.3"
    }
  },
  "nbformat": 4,
  "nbformat_minor": 0
}