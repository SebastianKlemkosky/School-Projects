{
  "cells": [
    {
      "cell_type": "code",
      "execution_count": 102,
      "metadata": {
        "id": "rEbRgaxOr2gW",
        "colab": {
          "base_uri": "https://localhost:8080/",
          "height": 35
        },
        "outputId": "9d2d147d-acfa-4a93-9eed-633f1ccff651"
      },
      "outputs": [
        {
          "output_type": "execute_result",
          "data": {
            "text/plain": [
              "'\\nHW5 \\n@author: Sebastian Klemkosky\\n@abc123: lmo120\\n\\nPlease insert one code cell for each question\\n\\n'"
            ],
            "application/vnd.google.colaboratory.intrinsic+json": {
              "type": "string"
            }
          },
          "metadata": {},
          "execution_count": 102
        }
      ],
      "source": [
        "# -*- coding: utf-8 -*-\n",
        "\"\"\"\n",
        "HW5 \n",
        "@author: Sebastian Klemkosky\n",
        "@abc123: lmo120\n",
        "\n",
        "Please insert one code cell for each question\n",
        "\n",
        "\"\"\""
      ]
    },
    {
      "cell_type": "markdown",
      "metadata": {
        "id": "Kos_sqq_r2gc"
      },
      "source": [
        "% import modules needed"
      ]
    },
    {
      "cell_type": "code",
      "source": [
        "import numpy as np\n",
        "import matplotlib.pyplot as plt\n",
        "import scipy.stats as stats\n",
        "import pandas as pd\n",
        "import numpy.random as rn\n",
        "from sklearn import linear_model\n",
        "from sklearn.metrics import mean_squared_error as mse\n",
        "from sklearn.metrics import r2_score as r2\n",
        "\n",
        "\n",
        "#Import hw5q1\n",
        "q1 = pd.read_excel('/content/hw5q1.xlsx')\n",
        "\n",
        "q1.shape\n"
      ],
      "metadata": {
        "colab": {
          "base_uri": "https://localhost:8080/"
        },
        "id": "Rn-0F1_ooBuQ",
        "outputId": "6f3400fb-93f4-4c0f-d94f-08c1efbaf286"
      },
      "execution_count": 103,
      "outputs": [
        {
          "output_type": "execute_result",
          "data": {
            "text/plain": [
              "(1000, 4)"
            ]
          },
          "metadata": {},
          "execution_count": 103
        }
      ]
    },
    {
      "cell_type": "markdown",
      "metadata": {
        "id": "DUPUTwpur2gf"
      },
      "source": [
        "% Q1a"
      ]
    },
    {
      "cell_type": "code",
      "source": [
        "#a. (4pts) Show a boxplot of the data.\n",
        "q1.boxplot()\n"
      ],
      "metadata": {
        "colab": {
          "base_uri": "https://localhost:8080/",
          "height": 282
        },
        "id": "jdlnek5Pn_kV",
        "outputId": "3d70e509-b7a7-47bc-9163-f8f6eea57d61"
      },
      "execution_count": 104,
      "outputs": [
        {
          "output_type": "execute_result",
          "data": {
            "text/plain": [
              "<matplotlib.axes._subplots.AxesSubplot at 0x7ff9a4451f90>"
            ]
          },
          "metadata": {},
          "execution_count": 104
        },
        {
          "output_type": "display_data",
          "data": {
            "text/plain": [
              "<Figure size 432x288 with 1 Axes>"
            ],
            "image/png": "[encoded data removed]"
          },
          "metadata": {
            "needs_background": "light"
          }
        }
      ]
    },
    {
      "cell_type": "markdown",
      "metadata": {
        "id": "TF-xvykCr2gf"
      },
      "source": [
        "% Q1b    "
      ]
    },
    {
      "cell_type": "code",
      "source": [
        "#b. (4pts) Use pandas function describe() to print out the summary statistics of the data\n",
        "q1.describe()\n",
        "\n"
      ],
      "metadata": {
        "colab": {
          "base_uri": "https://localhost:8080/",
          "height": 300
        },
        "id": "HSImbA6mq97f",
        "outputId": "73952bb5-09c4-4bc0-ccde-e2d06038d621"
      },
      "execution_count": 105,
      "outputs": [
        {
          "output_type": "execute_result",
          "data": {
            "text/plain": [
              "                 a            b            c            d\n",
              "count  1000.000000  1000.000000  1000.000000  1000.000000\n",
              "mean      3.993356     2.960433     2.786134     4.158032\n",
              "std       1.009219     3.131134     0.711737     7.951631\n",
              "min       0.876039     0.000909     1.056609     2.000620\n",
              "25%       3.271742     0.763997     2.274519     2.321567\n",
              "50%       4.042064     1.983874     2.699545     2.919469\n",
              "75%       4.705365     4.042860     3.202333     4.013069\n",
              "max       6.870148    24.173974     6.032348   157.940206"
            ],
            "text/html": [
              "\n",
              "  <div id=\"df-a9f8b98b-e055-4e39-a674-d5805b15667a\">\n",
              "    <div class=\"colab-df-container\">\n",
              "      <div>\n",
              "<style scoped>\n",
              "    .dataframe tbody tr th:only-of-type {\n",
              "        vertical-align: middle;\n",
              "    }\n",
              "\n",
              "    .dataframe tbody tr th {\n",
              "        vertical-align: top;\n",
              "    }\n",
              "\n",
              "    .dataframe thead th {\n",
              "        text-align: right;\n",
              "    }\n",
              "</style>\n",
              "<table border=\"1\" class=\"dataframe\">\n",
              "  <thead>\n",
              "    <tr style=\"text-align: right;\">\n",
              "      <th></th>\n",
              "      <th>a</th>\n",
              "      <th>b</th>\n",
              "      <th>c</th>\n",
              "      <th>d</th>\n",
              "    </tr>\n",
              "  </thead>\n",
              "  <tbody>\n",
              "    <tr>\n",
              "      <th>count</th>\n",
              "      <td>1000.000000</td>\n",
              "      <td>1000.000000</td>\n",
              "      <td>1000.000000</td>\n",
              "      <td>1000.000000</td>\n",
              "    </tr>\n",
              "    <tr>\n",
              "      <th>mean</th>\n",
              "      <td>3.993356</td>\n",
              "      <td>2.960433</td>\n",
              "      <td>2.786134</td>\n",
              "      <td>4.158032</td>\n",
              "    </tr>\n",
              "    <tr>\n",
              "      <th>std</th>\n",
              "      <td>1.009219</td>\n",
              "      <td>3.131134</td>\n",
              "      <td>0.711737</td>\n",
              "      <td>7.951631</td>\n",
              "    </tr>\n",
              "    <tr>\n",
              "      <th>min</th>\n",
              "      <td>0.876039</td>\n",
              "      <td>0.000909</td>\n",
              "      <td>1.056609</td>\n",
              "      <td>2.000620</td>\n",
              "    </tr>\n",
              "    <tr>\n",
              "      <th>25%</th>\n",
              "      <td>3.271742</td>\n",
              "      <td>0.763997</td>\n",
              "      <td>2.274519</td>\n",
              "      <td>2.321567</td>\n",
              "    </tr>\n",
              "    <tr>\n",
              "      <th>50%</th>\n",
              "      <td>4.042064</td>\n",
              "      <td>1.983874</td>\n",
              "      <td>2.699545</td>\n",
              "      <td>2.919469</td>\n",
              "    </tr>\n",
              "    <tr>\n",
              "      <th>75%</th>\n",
              "      <td>4.705365</td>\n",
              "      <td>4.042860</td>\n",
              "      <td>3.202333</td>\n",
              "      <td>4.013069</td>\n",
              "    </tr>\n",
              "    <tr>\n",
              "      <th>max</th>\n",
              "      <td>6.870148</td>\n",
              "      <td>24.173974</td>\n",
              "      <td>6.032348</td>\n",
              "      <td>157.940206</td>\n",
              "    </tr>\n",
              "  </tbody>\n",
              "</table>\n",
              "</div>\n",
              "      <button class=\"colab-df-convert\" onclick=\"convertToInteractive('df-a9f8b98b-e055-4e39-a674-d5805b15667a')\"\n",
              "              title=\"Convert this dataframe to an interactive table.\"\n",
              "              style=\"display:none;\">\n",
              "        \n",
              "  <svg xmlns=\"http://www.w3.org/2000/svg\" height=\"24px\"viewBox=\"0 0 24 24\"\n",
              "       width=\"24px\">\n",
              "    <path d=\"M0 0h24v24H0V0z\" fill=\"none\"/>\n",
              "    <path d=\"M18.56 5.44l.94 2.06.94-2.06 2.06-.94-2.06-.94-.94-2.06-.94 2.06-2.06.94zm-11 1L8.5 8.5l.94-2.06 2.06-.94-2.06-.94L8.5 2.5l-.94 2.06-2.06.94zm10 10l.94 2.06.94-2.06 2.06-.94-2.06-.94-.94-2.06-.94 2.06-2.06.94z\"/><path d=\"M17.41 7.96l-1.37-1.37c-.4-.4-.92-.59-1.43-.59-.52 0-1.04.2-1.43.59L10.3 9.45l-7.72 7.72c-.78.78-.78 2.05 0 2.83L4 21.41c.39.39.9.59 1.41.59.51 0 1.02-.2 1.41-.59l7.78-7.78 2.81-2.81c.8-.78.8-2.07 0-2.86zM5.41 20L4 18.59l7.72-7.72 1.47 1.35L5.41 20z\"/>\n",
              "  </svg>\n",
              "      </button>\n",
              "      \n",
              "  <style>\n",
              "    .colab-df-container {\n",
              "      display:flex;\n",
              "      flex-wrap:wrap;\n",
              "      gap: 12px;\n",
              "    }\n",
              "\n",
              "    .colab-df-convert {\n",
              "      background-color: #E8F0FE;\n",
              "      border: none;\n",
              "      border-radius: 50%;\n",
              "      cursor: pointer;\n",
              "      display: none;\n",
              "      fill: #1967D2;\n",
              "      height: 32px;\n",
              "      padding: 0 0 0 0;\n",
              "      width: 32px;\n",
              "    }\n",
              "\n",
              "    .colab-df-convert:hover {\n",
              "      background-color: #E2EBFA;\n",
              "      box-shadow: 0px 1px 2px rgba(60, 64, 67, 0.3), 0px 1px 3px 1px rgba(60, 64, 67, 0.15);\n",
              "      fill: #174EA6;\n",
              "    }\n",
              "\n",
              "    [theme=dark] .colab-df-convert {\n",
              "      background-color: #3B4455;\n",
              "      fill: #D2E3FC;\n",
              "    }\n",
              "\n",
              "    [theme=dark] .colab-df-convert:hover {\n",
              "      background-color: #434B5C;\n",
              "      box-shadow: 0px 1px 3px 1px rgba(0, 0, 0, 0.15);\n",
              "      filter: drop-shadow(0px 1px 2px rgba(0, 0, 0, 0.3));\n",
              "      fill: #FFFFFF;\n",
              "    }\n",
              "  </style>\n",
              "\n",
              "      <script>\n",
              "        const buttonEl =\n",
              "          document.querySelector('#df-a9f8b98b-e055-4e39-a674-d5805b15667a button.colab-df-convert');\n",
              "        buttonEl.style.display =\n",
              "          google.colab.kernel.accessAllowed ? 'block' : 'none';\n",
              "\n",
              "        async function convertToInteractive(key) {\n",
              "          const element = document.querySelector('#df-a9f8b98b-e055-4e39-a674-d5805b15667a');\n",
              "          const dataTable =\n",
              "            await google.colab.kernel.invokeFunction('convertToInteractive',\n",
              "                                                     [key], {});\n",
              "          if (!dataTable) return;\n",
              "\n",
              "          const docLinkHtml = 'Like what you see? Visit the ' +\n",
              "            '<a target=\"_blank\" href=https://colab.research.google.com/notebooks/data_table.ipynb>data table notebook</a>'\n",
              "            + ' to learn more about interactive tables.';\n",
              "          element.innerHTML = '';\n",
              "          dataTable['output_type'] = 'display_data';\n",
              "          await google.colab.output.renderOutput(dataTable, element);\n",
              "          const docLink = document.createElement('div');\n",
              "          docLink.innerHTML = docLinkHtml;\n",
              "          element.appendChild(docLink);\n",
              "        }\n",
              "      </script>\n",
              "    </div>\n",
              "  </div>\n",
              "  "
            ]
          },
          "metadata": {},
          "execution_count": 105
        }
      ]
    },
    {
      "cell_type": "markdown",
      "metadata": {
        "id": "mLwmDt_qr2gg"
      },
      "source": [
        "% Q1c"
      ]
    },
    {
      "cell_type": "code",
      "source": [
        "#c. (4pts) Apply log2 transformation (with applymap and np.log2) to the data and show the boxplot. \n",
        "\n",
        "q1_log = q1.applymap(np.log2)\n",
        "q1_log.boxplot()\n"
      ],
      "metadata": {
        "colab": {
          "base_uri": "https://localhost:8080/",
          "height": 282
        },
        "id": "L9lu6pBqr4Nm",
        "outputId": "eee22c34-ace6-4752-b03a-1f0b6b527b0f"
      },
      "execution_count": 106,
      "outputs": [
        {
          "output_type": "execute_result",
          "data": {
            "text/plain": [
              "<matplotlib.axes._subplots.AxesSubplot at 0x7ff9a43a5110>"
            ]
          },
          "metadata": {},
          "execution_count": 106
        },
        {
          "output_type": "display_data",
          "data": {
            "text/plain": [
              "<Figure size 432x288 with 1 Axes>"
            ],
            "image/png": "[encoded data removed]"
          },
          "metadata": {
            "needs_background": "light"
          }
        }
      ]
    },
    {
      "cell_type": "markdown",
      "source": [
        "% Q1d"
      ],
      "metadata": {
        "id": "BYUvgwKosKgA"
      }
    },
    {
      "cell_type": "code",
      "source": [
        "#d. (4pts) Use pandas function hist to show the histogram of each column of the data frame. (Use option\n",
        "#density = True so it plots probability instead of counts.) \n",
        "\n",
        "q1.hist(density = True)\n",
        "\n"
      ],
      "metadata": {
        "colab": {
          "base_uri": "https://localhost:8080/",
          "height": 368
        },
        "id": "jqstDmO9sgIW",
        "outputId": "d80414ef-3783-47a9-96c5-d652d4a85881"
      },
      "execution_count": 107,
      "outputs": [
        {
          "output_type": "execute_result",
          "data": {
            "text/plain": [
              "array([[<matplotlib.axes._subplots.AxesSubplot object at 0x7ff9a4340390>,\n",
              "        <matplotlib.axes._subplots.AxesSubplot object at 0x7ff9a5073450>],\n",
              "       [<matplotlib.axes._subplots.AxesSubplot object at 0x7ff9a4aaff10>,\n",
              "        <matplotlib.axes._subplots.AxesSubplot object at 0x7ff9a48fd4d0>]],\n",
              "      dtype=object)"
            ]
          },
          "metadata": {},
          "execution_count": 107
        },
        {
          "output_type": "display_data",
          "data": {
            "text/plain": [
              "<Figure size 432x288 with 4 Axes>"
            ],
            "image/png": "[encoded data removed]"
          },
          "metadata": {
            "needs_background": "light"
          }
        }
      ]
    },
    {
      "cell_type": "markdown",
      "metadata": {
        "id": "UhEqG94-r2gi"
      },
      "source": [
        "% Q1e"
      ]
    },
    {
      "cell_type": "code",
      "source": [
        "#(4pts) Use pandas function hist to show the histogram of the log transformed data frame. (Use option\n",
        "#density = True so it plots probability instead of counts.) \n",
        "\n",
        "q1_log.hist(density = True)\n",
        "\n",
        "\n"
      ],
      "metadata": {
        "colab": {
          "base_uri": "https://localhost:8080/",
          "height": 368
        },
        "id": "99fBQaYXw-Me",
        "outputId": "d5472eac-f3a2-4a45-aeba-6e81a94d92bf"
      },
      "execution_count": 108,
      "outputs": [
        {
          "output_type": "execute_result",
          "data": {
            "text/plain": [
              "array([[<matplotlib.axes._subplots.AxesSubplot object at 0x7ff9a449f2d0>,\n",
              "        <matplotlib.axes._subplots.AxesSubplot object at 0x7ff9a4165e90>],\n",
              "       [<matplotlib.axes._subplots.AxesSubplot object at 0x7ff9a411c4d0>,\n",
              "        <matplotlib.axes._subplots.AxesSubplot object at 0x7ff9a40d2ad0>]],\n",
              "      dtype=object)"
            ]
          },
          "metadata": {},
          "execution_count": 108
        },
        {
          "output_type": "display_data",
          "data": {
            "text/plain": [
              "<Figure size 432x288 with 4 Axes>"
            ],
            "image/png": "[encoded data removed]"
          },
          "metadata": {
            "needs_background": "light"
          }
        }
      ]
    },
    {
      "cell_type": "markdown",
      "metadata": {
        "id": "TZslmJvzr2gj"
      },
      "source": [
        "% Q1f"
      ]
    },
    {
      "cell_type": "markdown",
      "source": [
        "Column A is normal distrubuted as it forms a bell curve\n",
        "\n",
        "Column C is log normal distrubuted as forms a bell curve then descends.  Under the log tranformation of this column forms a bell curve. "
      ],
      "metadata": {
        "id": "0jgJMHAV0RTj"
      }
    },
    {
      "cell_type": "markdown",
      "source": [
        "%Q2a"
      ],
      "metadata": {
        "id": "lVsvPQLJscjU"
      }
    },
    {
      "cell_type": "code",
      "source": [
        "#a. (6 pts) Load data stored in brfss.csv format into a python DataFrame. The first line in the file is column\n",
        "#header, and the first column in the file is row index. Drop the rows that have any NaN values, and drop\n",
        "#the 'wtkg2' column. Change the sex column so that 1 (True) means male and 0 (False) means female.\n",
        "#(Originally, sex == 2 means female and sex == 1 means male.) Rename the columns to age, weight,\n",
        "#height, and male. Name the new DataFrame as brfss. Print out the shape (number of rows and columns)\n",
        "#of brfss\n",
        "\n",
        "\n",
        "\n",
        "brfss = pd.read_csv('/content/brfss.csv', index_col = 0)\n",
        "\n",
        "#Drop the rows that have any NaN values, and drop the 'wtkg2' column.\n",
        "brfss = brfss.drop(columns = ['wtkg2', 'wtkg2']).dropna()\n",
        "\n",
        "#Change the sex column so that 1 (True) means male and 0 (False) means female.\n",
        "#(Originally, sex == 2 means female and sex == 1 means male.)\n",
        "\n",
        "brfss['sex'] = brfss['sex'].map({2:0, 1:1})\n",
        "\n",
        "\n",
        "#Rename the columns to age, weight, height, and male.\n",
        "brfss = brfss.rename(columns = {'weight2' : 'weight', 'htm3':'height', 'sex':'male'})\n",
        "\n",
        "\n",
        "print(brfss.shape)"
      ],
      "metadata": {
        "colab": {
          "base_uri": "https://localhost:8080/"
        },
        "id": "9dTz80CH2eBF",
        "outputId": "9cae4ab8-d6ed-45ac-8f11-f6ced2321c27"
      },
      "execution_count": 109,
      "outputs": [
        {
          "output_type": "stream",
          "name": "stdout",
          "text": [
            "(385974, 5)\n"
          ]
        }
      ]
    },
    {
      "cell_type": "markdown",
      "metadata": {
        "id": "UpGsuATsr2gl"
      },
      "source": [
        "%\ti. What is the max age for people in the dataset?"
      ]
    },
    {
      "cell_type": "code",
      "source": [
        "#i. What is the max age for people in the dataset?\n",
        "print(brfss['age'].max())\n"
      ],
      "metadata": {
        "colab": {
          "base_uri": "https://localhost:8080/"
        },
        "id": "9EzpP9IyGFRY",
        "outputId": "fce34f27-f4e0-4828-a93b-c61b4993a7f8"
      },
      "execution_count": 110,
      "outputs": [
        {
          "output_type": "stream",
          "name": "stdout",
          "text": [
            "99.0\n"
          ]
        }
      ]
    },
    {
      "cell_type": "markdown",
      "metadata": {
        "id": "EcRQZ4LYr2gm"
      },
      "source": [
        "% ii.\tWhat is the mean weight for people in the dataset?"
      ]
    },
    {
      "cell_type": "code",
      "source": [
        "#ii. What is the mean weight for people in the dataset?\n",
        "print(brfss['weight'].mean())"
      ],
      "metadata": {
        "colab": {
          "base_uri": "https://localhost:8080/"
        },
        "id": "g9Thx4AMGRhe",
        "outputId": "90698f55-f0c6-46ad-8723-f63f42ecd312"
      },
      "execution_count": 111,
      "outputs": [
        {
          "output_type": "stream",
          "name": "stdout",
          "text": [
            "79.06146339580022\n"
          ]
        }
      ]
    },
    {
      "cell_type": "markdown",
      "metadata": {
        "id": "I1fTECeLr2gm"
      },
      "source": [
        "% iii.\tWhat is the mean weight for female in the dataset? "
      ]
    },
    {
      "cell_type": "code",
      "source": [
        "#iii. What is the mean weight for male in the dataset?\n",
        "print(brfss['weight'][brfss['male'] == 1].mean())\n"
      ],
      "metadata": {
        "colab": {
          "base_uri": "https://localhost:8080/"
        },
        "id": "VbW6C4I0GjnK",
        "outputId": "928d3c8e-ffdb-47c4-b18d-ad29893c74b0"
      },
      "execution_count": 112,
      "outputs": [
        {
          "output_type": "stream",
          "name": "stdout",
          "text": [
            "89.07074617893183\n"
          ]
        }
      ]
    },
    {
      "cell_type": "markdown",
      "metadata": {
        "id": "CG3cipSPr2gn"
      },
      "source": [
        "% iv.\tWhat is the median height for female in the dataset? "
      ]
    },
    {
      "cell_type": "code",
      "source": [
        "#iv. What is the median height for female in the dataset?\n",
        "print(brfss['height'][brfss['male'] == 0].median())\n"
      ],
      "metadata": {
        "colab": {
          "base_uri": "https://localhost:8080/"
        },
        "id": "RO_iRY8aIdP6",
        "outputId": "8ca33f44-be45-487c-bb4e-ce33a8ecbc5c"
      },
      "execution_count": 113,
      "outputs": [
        {
          "output_type": "stream",
          "name": "stdout",
          "text": [
            "163.0\n"
          ]
        }
      ]
    },
    {
      "cell_type": "markdown",
      "metadata": {
        "id": "XdXzpWZ2r2gn"
      },
      "source": [
        "% v.\tWhat is the mean weight for female younger than 20 years old?"
      ]
    },
    {
      "cell_type": "code",
      "source": [
        "#v. What is the mean weight for female < 20 years old?\n",
        "print(brfss[(brfss['male'] == 0) & (brfss['age'] < 20)]  ['weight'].mean())\n",
        "#get the females < 20 and get the mean of the height\n"
      ],
      "metadata": {
        "colab": {
          "base_uri": "https://localhost:8080/"
        },
        "id": "feS4mZsZJW8J",
        "outputId": "4d164226-dc60-4b8d-aede-cf15dfd41e10"
      },
      "execution_count": 114,
      "outputs": [
        {
          "output_type": "stream",
          "name": "stdout",
          "text": [
            "64.66934327502156\n"
          ]
        }
      ]
    },
    {
      "cell_type": "markdown",
      "metadata": {
        "id": "aq-GVTi6r2go"
      },
      "source": [
        "% vi.\tHow many males are in the dataset?"
      ]
    },
    {
      "cell_type": "code",
      "source": [
        "#vi. How many males are in the dataset?\n",
        "print(len(brfss[brfss['male'] == 1]))\n"
      ],
      "metadata": {
        "colab": {
          "base_uri": "https://localhost:8080/"
        },
        "id": "yNXZPYM2LIOp",
        "outputId": "5bc81824-229b-4f90-bea3-4aea1f1d6213"
      },
      "execution_count": 115,
      "outputs": [
        {
          "output_type": "stream",
          "name": "stdout",
          "text": [
            "150321\n"
          ]
        }
      ]
    },
    {
      "cell_type": "markdown",
      "metadata": {
        "id": "VXX7elUwr2go"
      },
      "source": [
        "% vii.\tHow many individuals in the dataset has height > 190cm and weight < 50kg?"
      ]
    },
    {
      "cell_type": "code",
      "source": [
        "#vii. How many individuals in the dataset has height > 190cm and weight < 50kg?\n",
        "print(len(brfss[(brfss['height'] > 190) & (brfss['weight'] < 50)]))\n",
        "\n",
        "\n"
      ],
      "metadata": {
        "colab": {
          "base_uri": "https://localhost:8080/"
        },
        "id": "p1caoQ59L5j5",
        "outputId": "d8bc5508-a481-4cf6-c5cd-c16c9e2dd86f"
      },
      "execution_count": 128,
      "outputs": [
        {
          "output_type": "stream",
          "name": "stdout",
          "text": [
            "12\n"
          ]
        }
      ]
    },
    {
      "cell_type": "markdown",
      "metadata": {
        "id": "ZA1s3fW7r2go"
      },
      "source": [
        "% viii.\tWhat is the average height of females whose weight is between 59 and 61 kg?"
      ]
    },
    {
      "cell_type": "code",
      "source": [
        "#viii. What is the average height of females whose weight is > 59 and < 61 kg?\n",
        "#This function returns a boolean vector containing True wherever the corresponding Series element is between the boundary values left and right. \n",
        "#NA values are treated as False.\n",
        "\n",
        "\n",
        "print(brfss[(brfss['weight'].between(59, 61) & (brfss['male'] == 0))]['height'].mean())\n",
        "\n"
      ],
      "metadata": {
        "colab": {
          "base_uri": "https://localhost:8080/"
        },
        "id": "qh9prmxaNixy",
        "outputId": "06fbe737-8498-4c1d-d1c3-6cb326f253af"
      },
      "execution_count": 117,
      "outputs": [
        {
          "output_type": "stream",
          "name": "stdout",
          "text": [
            "161.5588215235627\n"
          ]
        }
      ]
    },
    {
      "cell_type": "markdown",
      "metadata": {
        "id": "YYBeEek5r2gp"
      },
      "source": [
        "% ix.\tPrint out row 2001 to row 2010 (inclusive, a total of ten rows) from the dataframe."
      ]
    },
    {
      "cell_type": "code",
      "source": [
        "#ix. Print out row 2001 to row 2010 (inclusive, a total of ten rows) from the dataframe. (Just to be\n",
        "#sure, our row count starts from row 0.)\n",
        "\n",
        "\n",
        "print(brfss.iloc[2001: 2011, :])"
      ],
      "metadata": {
        "colab": {
          "base_uri": "https://localhost:8080/"
        },
        "id": "KM3gAWdkOyvN",
        "outputId": "ea19ed90-0fea-4cb3-ef8e-ec2a4ecd98a1"
      },
      "execution_count": 118,
      "outputs": [
        {
          "output_type": "stream",
          "name": "stdout",
          "text": [
            "       age      weight     wtyrago  height  male\n",
            "2174  55.0   77.272727   77.272727   173.0     1\n",
            "2175  54.0   86.363636   90.454545   175.0     1\n",
            "2176  51.0   72.727273   75.000000   183.0     1\n",
            "2177  22.0  122.727273  122.727273   163.0     0\n",
            "2178  71.0   68.181818   75.000000   180.0     1\n",
            "2179  82.0   72.727273   68.181818   163.0     0\n",
            "2180  55.0  100.000000  100.000000   183.0     1\n",
            "2181  53.0  127.272727  127.272727   185.0     1\n",
            "2182  58.0   77.272727   75.000000   173.0     1\n",
            "2183  58.0   77.272727   77.272727   180.0     0\n"
          ]
        }
      ]
    },
    {
      "cell_type": "markdown",
      "metadata": {
        "id": "-ivPaeolr2gp"
      },
      "source": [
        "% x.\tPrint out rows with rowID from 2001 to 2010 (including 2010, but maybe less than 10 rows due to NaNs being dropped out) from the dataframe."
      ]
    },
    {
      "cell_type": "code",
      "source": [
        "#x. Print out rows with “row index” (note: dataframe index) from 2001 to 2010 (inclusive, but may\n",
        "#have less than 10 rows due to NaNs being dropped out already) from the dataframe. (Note that\n",
        "#the row indices of this dataframe are integers assigned when we loaded the data from the csv\n",
        "#file; these indice have been kept for each record in the lifetime of the dataframe unless we\n",
        "#change them explicitly.)\n",
        "\n",
        "\n",
        "print(brfss.loc[2001: 2010, :])\n",
        "\n",
        "\n"
      ],
      "metadata": {
        "colab": {
          "base_uri": "https://localhost:8080/"
        },
        "id": "XJ2sXmpKQff8",
        "outputId": "894b154a-ba90-487f-87f8-7dec768dc02c"
      },
      "execution_count": 119,
      "outputs": [
        {
          "output_type": "stream",
          "name": "stdout",
          "text": [
            "       age      weight     wtyrago  height  male\n",
            "2001  54.0   90.000000   90.000000   188.0     1\n",
            "2002  29.0   79.545455   79.545455   175.0     0\n",
            "2004  30.0   90.909091   90.909091   152.0     0\n",
            "2005  37.0   59.090909   61.363636   165.0     0\n",
            "2006  25.0   97.727273   86.363636   180.0     0\n",
            "2007  43.0   62.727273   68.181818   165.0     0\n",
            "2008  40.0  100.909091  116.818182   165.0     0\n",
            "2009  51.0   70.454545   70.454545   157.0     0\n",
            "2010  45.0   85.000000  136.363636   160.0     0\n"
          ]
        }
      ]
    },
    {
      "cell_type": "markdown",
      "metadata": {
        "id": "lt-EblNpr2gy"
      },
      "source": [
        "% Q3a"
      ]
    },
    {
      "cell_type": "code",
      "source": [
        "#(10 pts) From the brfss DataFrame created in Q2a, use the height column as Y, and weight column as X\n",
        "#to perform a simple linear regression (See 6-regression.ppt slide #23, lr.fit). Print out the equation that is\n",
        "#obtained by the linear regression in the form of “height = a + b * weight” (replace a and b with the\n",
        "#values obtained from the linear regression, lr.intercept_ and lr.coef_.) (Note: you need to either make X\n",
        "#a DataFrame or reshape X to be a n x 1 numpy array using reshape(-1, 1); see simpleRegression.ipynb.)\n",
        "\n",
        "#From the brfss DataFrame created in Q2a, use the height column as Y, and weight column as X\n",
        "#to perform a simple linear regression (See 6-regression.ppt slide #23, lr.fit). \n",
        "\n",
        "\n",
        "\n",
        "\n",
        "X = brfss[['weight']].values\n",
        "Y = brfss[['height']].values\n",
        "\n",
        "lr = linear_model.LinearRegression()\n",
        "lr.fit(X,Y)\n",
        "\n",
        "\n",
        "\n",
        "#Print out the equation that is\n",
        "#obtained by the linear regression in the form of “height = a + b * weight” (replace a and b with the\n",
        "#values obtained from the linear regression, lr.intercept_ and lr.coef_.) \n",
        "\n",
        "a = lr.coef_[0]\n",
        "b = lr.intercept_\n",
        "print('height =', a[0], '+', b[0], '* weight')\n"
      ],
      "metadata": {
        "colab": {
          "base_uri": "https://localhost:8080/"
        },
        "id": "_eKPXKIKSEpr",
        "outputId": "d090b409-a514-4cb3-c869-1e4b568b3dbb"
      },
      "execution_count": 120,
      "outputs": [
        {
          "output_type": "stream",
          "name": "stdout",
          "text": [
            "height = 0.2720578213715107 + 147.50415183397914 * weight\n"
          ]
        }
      ]
    },
    {
      "cell_type": "markdown",
      "metadata": {
        "id": "R3UQgWqer2gz"
      },
      "source": [
        "% Q3b"
      ]
    },
    {
      "cell_type": "code",
      "source": [
        "#b. (4 pts) Use the linear regression object that you obtained in 3a to predict the height of an individual\n",
        "#whose weight is 60kg (with lr.predict). Print out the predicted height. (As in 3a, make the value 60 a\n",
        "#dataframe or a 1x1 numpy 2d array.)\n",
        "w = 60\n",
        "h = lr.predict([[w]])[0] #when running this one sometimes an error occurs, I think it's because of Q3e in which we have 2 inputs in the predict function, run this one before Q3e\n",
        "print('Predicted height for someone whose weight is 60kg:', h[0])\n",
        "\n"
      ],
      "metadata": {
        "colab": {
          "base_uri": "https://localhost:8080/"
        },
        "id": "j5fICSf3AV3X",
        "outputId": "42694266-485e-4095-9e82-d6aaea06ab79"
      },
      "execution_count": 121,
      "outputs": [
        {
          "output_type": "stream",
          "name": "stdout",
          "text": [
            "Predicted height for someone whose weight is 60kg: 163.82762111626977\n"
          ]
        }
      ]
    },
    {
      "cell_type": "markdown",
      "metadata": {
        "id": "BH0VP5Qwr2gz"
      },
      "source": [
        "% Q3c"
      ]
    },
    {
      "cell_type": "code",
      "source": [
        "#(6 pts) Compute the MSE and R-square of the simple linear regression. (Slide #23, Imported as r2 and\n",
        "#mse.)\n",
        "\n",
        "\n",
        "pred = lr.predict(X)\n",
        "MSE = mse(Y, pred)\n",
        "\n",
        "R2 = r2(Y, pred)\n",
        "\n",
        "print('MSE:', MSE)\n",
        "print('R-sqaure:', R2 )\n",
        "\n"
      ],
      "metadata": {
        "colab": {
          "base_uri": "https://localhost:8080/"
        },
        "id": "MJYEVDM9BqPI",
        "outputId": "b8e7e7a3-3335-49c9-9257-fe4815b76fd2"
      },
      "execution_count": 122,
      "outputs": [
        {
          "output_type": "stream",
          "name": "stdout",
          "text": [
            "MSE: 79.74278940442825\n",
            "R-sqaure: 0.26115058374722433\n"
          ]
        }
      ]
    },
    {
      "cell_type": "markdown",
      "metadata": {
        "id": "ObbXnb6Ir2gz"
      },
      "source": [
        "% Q3d"
      ]
    },
    {
      "cell_type": "code",
      "source": [
        "#d. (10 pts) From the brfss DataFrame above, use the height column as Y, and two columns, weight and\n",
        "#male, as X, to perform a multiple linear regression (slides #34). Print out the equation that is obtained\n",
        "#by the linear regression in the form of “height = a + b * weight + c * male” (replace a, b and c with the\n",
        "#values in lr.intercept_ and lr.coef_.) (FYI: compare the a, b, c values from the a, b values from Q3a.)\n",
        "\n",
        "\n",
        "#From the brfss DataFrame above, use the height column as Y, and two columns, weight and\n",
        "#isMale, as X, to perform a multiple linear regression (slides #34)\n",
        "\n",
        "X = brfss[['weight', 'male']].values\n",
        "Y = brfss[['height']].values\n",
        "\n",
        "lr.fit(X, Y)\n",
        "\n",
        "#print(lr.coef_)\n",
        "#print(lr.intercept_)\n",
        "\n",
        "#Print out the equation that is obtained\n",
        "#by the linear regression in the form of “height = a + b * weight + c * male” (replace a, b and c with the\n",
        "#values in lr.intercept_ and lr.coef_.) (FYI: compare the a, b, c values from the a, b values from Q3a.)\n",
        "\n",
        "a = lr.coef_[0][0]\n",
        "b = lr.coef_[0][1]\n",
        "c = lr.intercept_[0]\n",
        "\n",
        "print('height =', a, '+', b, '* weight +', c, '* male')\n",
        "\n"
      ],
      "metadata": {
        "colab": {
          "base_uri": "https://localhost:8080/"
        },
        "id": "yR-z1VmcDS8X",
        "outputId": "e7bf4026-990b-4178-f564-3cf6f14e166f"
      },
      "execution_count": 123,
      "outputs": [
        {
          "output_type": "stream",
          "name": "stdout",
          "text": [
            "height = 0.14366705231478633 + 12.542187627044626 * weight + 152.77024763297374 * male\n"
          ]
        }
      ]
    },
    {
      "cell_type": "markdown",
      "metadata": {
        "id": "tf7mCec-r2g0"
      },
      "source": [
        "% Q3e"
      ]
    },
    {
      "cell_type": "code",
      "source": [
        "#(3 pts) Use the linear regression object that you obtained in 3d to predict the height of a male whose\n",
        "#weight is 60kg. Print out the predicted height\n",
        "\n",
        "m = 1\n",
        "w = 60\n",
        "h = lr.predict([[w, m]])[0]\n",
        "print('Predicted height for males whose weight is 60 kg:', h[0])\n"
      ],
      "metadata": {
        "colab": {
          "base_uri": "https://localhost:8080/"
        },
        "id": "4TXT_GPYGHhE",
        "outputId": "d54af621-1bd0-4997-81f3-03199ad85e24"
      },
      "execution_count": 124,
      "outputs": [
        {
          "output_type": "stream",
          "name": "stdout",
          "text": [
            "Predicted height for males whose weight is 60 kg: 173.93245839890554\n"
          ]
        }
      ]
    },
    {
      "cell_type": "markdown",
      "metadata": {
        "id": "i92B7K75r2g0"
      },
      "source": [
        "% Q3f"
      ]
    },
    {
      "cell_type": "code",
      "source": [
        "#(3 pts) Use the linear regression object that you obtained in 3d to predict the height of a female whose\n",
        "#weight is 60kg. Print out the predicted height. (Just FYI, what is the difference between this predicted \n",
        "\n",
        "m = 0\n",
        "w = 60\n",
        "h = lr.predict([[w, m]])[0]\n",
        "print('Predicted height for females whose weight is 60 kg:', h[0])"
      ],
      "metadata": {
        "colab": {
          "base_uri": "https://localhost:8080/"
        },
        "id": "cRACPC-bHiMW",
        "outputId": "e6a106ce-ce93-4f44-895b-9784478060a8"
      },
      "execution_count": 125,
      "outputs": [
        {
          "output_type": "stream",
          "name": "stdout",
          "text": [
            "Predicted height for females whose weight is 60 kg: 161.3902707718609\n"
          ]
        }
      ]
    },
    {
      "cell_type": "markdown",
      "metadata": {
        "id": "LU5rIZZyr2g1"
      },
      "source": [
        "% Q3g"
      ]
    },
    {
      "cell_type": "code",
      "source": [
        "#g. (4 pts) Compute the MSE and R-square of the multiple linear regression. (FYI: how does these two\n",
        "#compare with the values from Q3c?)\n",
        "\n",
        "\n",
        "pred = lr.predict(X)\n",
        "MSE = mse(Y, pred)\n",
        "\n",
        "R2 = r2(Y, pred)\n",
        "\n",
        "print('MSE:', MSE)\n",
        "print('R-sqaure:', R2 )\n",
        "\n"
      ],
      "metadata": {
        "colab": {
          "base_uri": "https://localhost:8080/"
        },
        "id": "xrlAb7ByH6IK",
        "outputId": "8e955753-1081-4d2b-f460-1d43eef89368"
      },
      "execution_count": 126,
      "outputs": [
        {
          "output_type": "stream",
          "name": "stdout",
          "text": [
            "MSE: 48.615635342162335\n",
            "R-sqaure: 0.5495563415628426\n"
          ]
        }
      ]
    }
  ],
  "metadata": {
    "kernelspec": {
      "display_name": "Python 3",
      "language": "python",
      "name": "python3"
    },
    "language_info": {
      "codemirror_mode": {
        "name": "ipython",
        "version": 3
      },
      "file_extension": ".py",
      "mimetype": "text/x-python",
      "name": "python",
      "nbconvert_exporter": "python",
      "pygments_lexer": "ipython3",
      "version": "3.6.4"
    },
    "colab": {
      "name": "lmo_120_hw5.ipynb",
      "provenance": [],
      "collapsed_sections": []
    }
  },
  "nbformat": 4,
  "nbformat_minor": 0
}