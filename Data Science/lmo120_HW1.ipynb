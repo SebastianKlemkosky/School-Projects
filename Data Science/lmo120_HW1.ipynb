{
  "nbformat": 4,
  "nbformat_minor": 0,
  "metadata": {
    "colab": {
      "name": "lmo120_HW1.ipynb",
      "provenance": [],
      "collapsed_sections": []
    },
    "kernelspec": {
      "name": "python3",
      "display_name": "Python 3"
    },
    "language_info": {
      "name": "python"
    }
  },
  "cells": [
    {
      "cell_type": "code",
      "execution_count": 74,
      "metadata": {
        "id": "mFL4JLSI_MOK"
      },
      "outputs": [],
      "source": [
        "# -*- coding: utf-8 -*-\n",
        "\"\"\"\n",
        "HW1 Code CS 3753 Data Science\n",
        "Prof Jianhua Ruan\n",
        "@author: Sebastian Klemkosky\n",
        "abc123: lmo120\n",
        "\"\"\"\n",
        "import random\n",
        "\n",
        "import matplotlib.pyplot as plt\n",
        "from IPython import get_ipython\n"
      ]
    },
    {
      "cell_type": "markdown",
      "source": [
        "# Q1 Selection Sort \n",
        "\n",
        "Although not required, it should be in-place sorting (sort the original list)"
      ],
      "metadata": {
        "id": "wNNKBItm_-uY"
      }
    },
    {
      "cell_type": "code",
      "source": [
        "\n",
        "def selectionSort(numList):\n",
        "    \"\"\"Given a list of numbers, return a list in sorted order (least to largest)\n",
        "        Note that the function may change the original list (in-place sorting)\n",
        "    \"\"\"\n",
        "    #Traverse thru the list\n",
        "    for i in range(len(numList)):\n",
        "\n",
        "        #find the min element in the remaining unsorted list\n",
        "        min_i = i\n",
        "        for j in range(i + 1, len(numList)):\n",
        "            if numList[min_i] > numList[j]:\n",
        "                min_i = j\n",
        "        \n",
        "        #swap the found min with the first element\n",
        "        numList[i], numList[min_i] = numList[min_i], numList[i]\n",
        "    \n",
        "    return numList\n",
        "\n",
        "\n",
        "#%% Testing selection sort\n",
        "\n",
        "a = [random.randint(0, 20) for _ in range(10)]\n",
        "print('\\n\\n********* Q1 *********')\n",
        "print('random array is: ', a)\n",
        "    \n",
        "b = selectionSort(a)\n",
        "print('selection sorted array is: ', b)\n",
        "\n",
        "\n",
        "\n",
        "if b == sorted(a):\n",
        "    print('selectionSort is correct') \n",
        "\n",
        "    print('profiling running time of python sorted function on a:')\n",
        "    get_ipython().run_line_magic('timeit', 'sorted(a)')\n",
        "\n",
        "    print('profiling running time of my merge sort function on a:')\n",
        "    get_ipython().run_line_magic('timeit', 'selectionSort(a)')\n",
        "\n",
        "else:\n",
        "# replace the following statement with a print statement if your selection sort is incorrect \n",
        "# but you want to continue with the rest of the code\n",
        "    raise SystemExit('selectionSort is incorrect')\n",
        "\n"
      ],
      "metadata": {
        "id": "eiQHOh0a_daL",
        "colab": {
          "base_uri": "https://localhost:8080/"
        },
        "outputId": "f12e7c23-4f13-4247-e97e-c1812a786daf"
      },
      "execution_count": 75,
      "outputs": [
        {
          "output_type": "stream",
          "name": "stdout",
          "text": [
            "\n",
            "\n",
            "********* Q1 *********\n",
            "random array is:  [3, 7, 17, 0, 20, 8, 12, 12, 11, 17]\n",
            "selection sorted array is:  [0, 3, 7, 8, 11, 12, 12, 17, 17, 20]\n",
            "selectionSort is correct\n",
            "profiling running time of python sorted function on a:\n",
            "The slowest run took 9.25 times longer than the fastest. This could mean that an intermediate result is being cached.\n",
            "1000000 loops, best of 5: 252 ns per loop\n",
            "profiling running time of my merge sort function on a:\n",
            "100000 loops, best of 5: 8.73 µs per loop\n"
          ]
        }
      ]
    },
    {
      "cell_type": "markdown",
      "source": [
        "# Q2a. Merge function"
      ],
      "metadata": {
        "id": "rMvVg0nOAJk6"
      }
    },
    {
      "cell_type": "code",
      "source": [
        "\n",
        "\n",
        "def merge(sortListA, sortListB):\n",
        "    \"\"\"Given two non-decreasingly sorted list of numbers, \n",
        "       return a single merged list in non-decreasing order\n",
        "    \"\"\"\n",
        "    #resulting list\n",
        "    mergedList = []\n",
        "\n",
        "    #left and right iterators\n",
        "    i = j = 0\n",
        "\n",
        "    #traverse thru both lists while there are still elements in both\n",
        "    while i < len(sortListA) and j < len(sortListB):\n",
        "        \n",
        "        #check listA[i] with listB[j] \n",
        "        if sortListA[i] < sortListB[j]:\n",
        "\n",
        "            mergedList.append(sortListA[i])\n",
        "            #mergedList = mergedList + [sortListA[i]]\n",
        "\n",
        "            i += 1\n",
        "        else:\n",
        "          \n",
        "            mergedList.append(sortListB[j])\n",
        "            #mergedList = mergedList + [sortListB[j]]\n",
        "\n",
        "            j += 1\n",
        "\n",
        "\n",
        "    #in case there are still elements in either list then extend the remaining elements\n",
        "    mergedList.extend(sortListA[i:])\n",
        "    mergedList.extend(sortListB[j:])\n",
        "\n",
        "    return mergedList\n",
        "\n",
        "\n",
        "#%% Testing merge function\n",
        "\n",
        "a = sorted([random.randint(0, 10) for _ in range(5)]) # a is sorted \n",
        "b = sorted([random.randint(0, 10) for _ in range(4)]) # b is sorted\n",
        "\n",
        "print('\\n\\n********* Q2a *********')\n",
        "print('a is: ', a)\n",
        "print('b is: ', b)\n",
        "\n",
        "c = merge(a, b) # c should be sorted(a+b)\n",
        "print('merged result: ', c)\n",
        "\n",
        "if (c == sorted(a + b)):\n",
        "    print('merge is correct')\n",
        "else:\n",
        "# replace the following statement with a print statement if your merge function is incorrect \n",
        "# but you want to continue with the rest of the code\n",
        "    raise SystemExit('merge is incorrect')    \n",
        "\n",
        "\n"
      ],
      "metadata": {
        "id": "KpOTcZpU_xxt",
        "colab": {
          "base_uri": "https://localhost:8080/"
        },
        "outputId": "339a0347-a75c-408f-fdd6-8d8fb5e31bf9"
      },
      "execution_count": 76,
      "outputs": [
        {
          "output_type": "stream",
          "name": "stdout",
          "text": [
            "\n",
            "\n",
            "********* Q2a *********\n",
            "a is:  [0, 0, 3, 5, 9]\n",
            "b is:  [0, 1, 2, 8]\n",
            "merged result:  [0, 0, 0, 1, 2, 3, 5, 8, 9]\n",
            "merge is correct\n"
          ]
        }
      ]
    },
    {
      "cell_type": "markdown",
      "source": [
        "# Q2b merge sort \n",
        "\n",
        "Not an in-place sorting (returns a new sorted list)"
      ],
      "metadata": {
        "id": "RDzRHOOFAxr8"
      }
    },
    {
      "cell_type": "code",
      "source": [
        "def mergeSort(numList):\n",
        "    \"\"\"\n",
        "    Given a list of numbers in random order, \n",
        "    return a new list sorted in non-decreasing order, \n",
        "    and leave the original list unchanged.\n",
        "    \"\"\"\n",
        "\n",
        "    #In case the numList has 1 or less elements\n",
        "    if len(numList) <= 1:\n",
        "      return numList\n",
        "\n",
        "    #Find the middle of the list\n",
        "    mid = int(len(numList) / 2)\n",
        "\n",
        "    #listA is everything up to the mid point\n",
        "    sortListA = mergeSort(numList[:mid])\n",
        "\n",
        "    #listB is everything after the mid point\n",
        "    sortListB = mergeSort(numList[mid:])\n",
        "\n",
        "    sortedList = merge(sortListA, sortListB)\n",
        "\n",
        "    return sortedList\n",
        "\n",
        "\n",
        "#%% Test mergeSort function\n",
        "    \n",
        "    \n",
        "a = [random.randint(0, 20) for _ in range(10)]\n",
        "    \n",
        "\n",
        "print('\\n\\n********* Q2b *********')\n",
        "print('random array is: ', a)\n",
        "\n",
        "\n",
        "b = mergeSort(a)\n",
        "print('merge sorted array is: ', b)\n",
        "\n",
        "\n",
        "if b == sorted(a):\n",
        "    print('mergeSort is correct') \n",
        "    print('profiling running time of python sorted function on a:')\n",
        "    get_ipython().run_line_magic('timeit', 'sorted(a)')\n",
        "\n",
        "    print('profiling running time of my merge sort function on a:')\n",
        "    get_ipython().run_line_magic('timeit', 'mergeSort(a)')\n",
        "\n",
        "else:\n",
        "# replace the following statement with a print statement if your merge sort is incorrect \n",
        "# but you want to continue with the rest of the code\n",
        "    raise SystemExit('mergeSort is incorrect')\n",
        "\n",
        "\n",
        "\n",
        "\n"
      ],
      "metadata": {
        "id": "KeqwYU9y_2x5",
        "colab": {
          "base_uri": "https://localhost:8080/"
        },
        "outputId": "b93522cb-dc77-4fa9-a026-f8d1b38d5b2f"
      },
      "execution_count": 77,
      "outputs": [
        {
          "output_type": "stream",
          "name": "stdout",
          "text": [
            "\n",
            "\n",
            "********* Q2b *********\n",
            "random array is:  [17, 3, 16, 8, 10, 5, 3, 10, 7, 18]\n",
            "merge sorted array is:  [3, 3, 5, 7, 8, 10, 10, 16, 17, 18]\n",
            "mergeSort is correct\n",
            "profiling running time of python sorted function on a:\n",
            "The slowest run took 9.94 times longer than the fastest. This could mean that an intermediate result is being cached.\n",
            "1000000 loops, best of 5: 338 ns per loop\n",
            "profiling running time of my merge sort function on a:\n",
            "10000 loops, best of 5: 21.3 µs per loop\n"
          ]
        }
      ]
    },
    {
      "cell_type": "markdown",
      "source": [
        "# Q3 Experiment and plot\n",
        "\n",
        "Run the three sorting algorithms on different input sizes and collect running time"
      ],
      "metadata": {
        "id": "N5VE2ySVBF22"
      }
    },
    {
      "cell_type": "code",
      "source": [
        "import time\n",
        "\n",
        "# input size is 500 * (1, 2, 4, ..., 32)\n",
        "sizes = [500 * 2**i for i in range(6)]\n",
        "\n",
        "\n",
        "merge_sort_time = [0] * len(sizes)\n",
        "selection_sort_time = [0] * len(sizes)\n",
        "quick_sort_time = [0] * len(sizes)\n",
        "\n",
        "print('\\n\\n********* Q3 *********')\n",
        "print('Collecting running time (in milliseconds)')\n",
        "\n",
        "for i in range(len(sizes)):\n",
        "    print('iteration %d, size = %d' %(i, sizes[i]))\n",
        "    # random array of size sizes[i]\n",
        "    a = [random.random() for _ in range(sizes[i])]\n",
        "    start_time = time.perf_counter()\n",
        "    sorted(a)\n",
        "    quick_sort_time[i] = 1000*(time.perf_counter() - start_time) \n",
        "    start_time = time.perf_counter()\n",
        "    mergeSort(a)\n",
        "    merge_sort_time[i] = 1000*(time.perf_counter() - start_time) \n",
        "    start_time = time.perf_counter()\n",
        "    selectionSort(a)\n",
        "    selection_sort_time[i] = 1000*(time.perf_counter() - start_time)  \n"
      ],
      "metadata": {
        "id": "TIeXD27T_8AN",
        "colab": {
          "base_uri": "https://localhost:8080/"
        },
        "outputId": "535dfa25-2da5-4588-ecb1-43532a5c8233"
      },
      "execution_count": 78,
      "outputs": [
        {
          "output_type": "stream",
          "name": "stdout",
          "text": [
            "\n",
            "\n",
            "********* Q3 *********\n",
            "Collecting running time (in milliseconds)\n",
            "iteration 0, size = 500\n",
            "iteration 1, size = 1000\n",
            "iteration 2, size = 2000\n",
            "iteration 3, size = 4000\n",
            "iteration 4, size = 8000\n",
            "iteration 5, size = 16000\n"
          ]
        }
      ]
    },
    {
      "cell_type": "markdown",
      "source": [
        "## Complete the following code to plot the running time; use the style show in the homework document as template, reproduce as much detail as possible.\n",
        "\n"
      ],
      "metadata": {
        "id": "bd17mngV_X1G"
      }
    },
    {
      "cell_type": "code",
      "source": [
        "#%% Q3a. plot running time (Fig 1)\n",
        "\n",
        "#create line chart\n",
        "\n",
        "#Quick Sort\n",
        "plt.plot(sizes, quick_sort_time, color='red', marker='x', linestyle=':', label='Quick sort')\n",
        "\n",
        "#Merge Sort\n",
        "plt.plot(sizes, merge_sort_time, color='green', marker='*', linestyle='-', label='Merge sort')\n",
        "\n",
        "#Selection Sort\n",
        "plt.plot(sizes, selection_sort_time, color='blue', marker='x', linestyle='-.', label='Selection sort')\n",
        "\n",
        "#Axis Scaling\n",
        "#plt.ylim((0,10000))\n",
        "\n",
        "#Add title\n",
        "plt.title(\"Fig 1\")\n",
        "\n",
        "#Add X-axis label\n",
        "plt.xlabel(\"Input Size\")\n",
        "\n",
        "#Add Y-axis label\n",
        "plt.ylabel(\"Time (ms)\")\n",
        "\n",
        "#Legend\n",
        "plt.legend(loc=\"upper left\")\n"
      ],
      "metadata": {
        "id": "PkMT0iuhBhKx",
        "colab": {
          "base_uri": "https://localhost:8080/",
          "height": 312
        },
        "outputId": "a6ec2e74-ab8c-4b35-c043-d5b80c11c655"
      },
      "execution_count": 79,
      "outputs": [
        {
          "output_type": "execute_result",
          "data": {
            "text/plain": [
              "<matplotlib.legend.Legend at 0x7f3187363dd0>"
            ]
          },
          "metadata": {},
          "execution_count": 79
        },
        {
          "output_type": "display_data",
          "data": {
            "image/png": "[encoded data removed]",
            "text/plain": [
              "<Figure size 432x288 with 1 Axes>"
            ]
          },
          "metadata": {
            "needs_background": "light"
          }
        }
      ]
    },
    {
      "cell_type": "code",
      "source": [
        "#%% Q3b. plot running time (Fig 2)\n",
        "\n",
        "#create line chart\n",
        "\n",
        "#Quick Sort\n",
        "plt.plot(sizes, quick_sort_time, color='red', marker='x', linestyle=':', label='Quick sort')\n",
        "\n",
        "#Merge Sort\n",
        "plt.plot(sizes, merge_sort_time, color='green', marker='*', linestyle='-', label='Merge sort')\n",
        "\n",
        "#Selection Sort\n",
        "plt.plot(sizes, selection_sort_time, color='blue', marker='x', linestyle='-.', label='Selection sort')\n",
        "\n",
        "#Axis Scaling\n",
        "plt.yscale('log')\n",
        "\n",
        "#Add title\n",
        "plt.title(\"Fig 2\")\n",
        "\n",
        "#Add X-axis label\n",
        "plt.xlabel(\"Input Size\")\n",
        "\n",
        "#Add Y-axis label\n",
        "plt.ylabel(\"Time (ms)\")\n",
        "\n",
        "#Legend\n",
        "plt.legend(loc=\"lower right\")"
      ],
      "metadata": {
        "id": "tLriw-gOBrdf",
        "colab": {
          "base_uri": "https://localhost:8080/",
          "height": 312
        },
        "outputId": "264db13f-895f-478a-e7fd-ce7dfb062246"
      },
      "execution_count": 80,
      "outputs": [
        {
          "output_type": "execute_result",
          "data": {
            "text/plain": [
              "<matplotlib.legend.Legend at 0x7f31873cf450>"
            ]
          },
          "metadata": {},
          "execution_count": 80
        },
        {
          "output_type": "display_data",
          "data": {
            "image/png": "[encoded data removed]",
            "text/plain": [
              "<Figure size 432x288 with 1 Axes>"
            ]
          },
          "metadata": {
            "needs_background": "light"
          }
        }
      ]
    },
    {
      "cell_type": "code",
      "source": [
        "#%% Q3c. plot running time per input element (Fig 3)\n",
        "\n",
        "#create line chart\n",
        "\n",
        "#Quick Sort Time / Size\n",
        "qs = [a/b for a,b in zip(quick_sort_time, sizes)]\n",
        "\n",
        "plt.plot(sizes, qs, color='red', marker='x', linestyle=':', label='Quick sort')\n",
        "\n",
        "#Merge Sort Time / Size\n",
        "ms = [a/b for a,b in zip(merge_sort_time, sizes)]\n",
        "\n",
        "plt.plot(sizes, ms, color='green', marker='*', linestyle='-', label='Merge sort')\n",
        "\n",
        "#Selection Sort\n",
        "ss = [a/b for a,b in zip(selection_sort_time, sizes)]\n",
        "\n",
        "plt.plot(sizes, ss, color='blue', marker='x', linestyle='-.', label='Selection sort')\n",
        "\n",
        "#Axis Scaling\n",
        "#plt.yscale('log')\n",
        "\n",
        "#Add title\n",
        "plt.title(\"Fig 3\")\n",
        "\n",
        "#Add X-axis label\n",
        "plt.xlabel(\"Input Size\")\n",
        "\n",
        "#Add Y-axis label\n",
        "plt.ylabel(\"Time (ms) per input element\")\n",
        "\n",
        "#Legend\n",
        "plt.legend(loc=\"upper left\")\n"
      ],
      "metadata": {
        "id": "HSKGGXs6Bu-r",
        "colab": {
          "base_uri": "https://localhost:8080/",
          "height": 312
        },
        "outputId": "27ab5aed-3f14-47b0-8e55-fa0ac1bbb378"
      },
      "execution_count": 81,
      "outputs": [
        {
          "output_type": "execute_result",
          "data": {
            "text/plain": [
              "<matplotlib.legend.Legend at 0x7f31871b8950>"
            ]
          },
          "metadata": {},
          "execution_count": 81
        },
        {
          "output_type": "display_data",
          "data": {
            "image/png": "[encoded data removed]",
            "text/plain": [
              "<Figure size 432x288 with 1 Axes>"
            ]
          },
          "metadata": {
            "needs_background": "light"
          }
        }
      ]
    },
    {
      "cell_type": "code",
      "source": [
        "\n",
        "\n",
        "#%% Q3d. plot running time per input element (Fig 4)\n",
        "\n",
        "#create line chart\n",
        "\n",
        "#Quick Sort Time / Size\n",
        "qs = [a/b for a,b in zip(quick_sort_time, sizes)]\n",
        "\n",
        "plt.plot(sizes, qs, color='red', marker='x', linestyle=':', label='Quick sort')\n",
        "\n",
        "#Merge Sort Time / Size\n",
        "ms = [a/b for a,b in zip(merge_sort_time, sizes)]\n",
        "\n",
        "plt.plot(sizes, ms, color='green', marker='*', linestyle='-', label='Merge sort')\n",
        "\n",
        "#Selection Sort\n",
        "ss = [a/b for a,b in zip(selection_sort_time, sizes)]\n",
        "\n",
        "plt.plot(sizes, ss, color='blue', marker='x', linestyle='-.', label='Selection sort')\n",
        "\n",
        "#Axis Scaling\n",
        "plt.yscale('log')\n",
        "plt.xscale('log')\n",
        "\n",
        "#Add title\n",
        "plt.title(\"Fig 4\")\n",
        "\n",
        "#Add X-axis label\n",
        "plt.xlabel(\"Input Size\")\n",
        "\n",
        "#Add Y-axis label\n",
        "plt.ylabel(\"Time (ms) per input element\")\n",
        "\n",
        "#Legend\n",
        "plt.legend(loc=\"upper left\")"
      ],
      "metadata": {
        "id": "vrBQH275BweW",
        "colab": {
          "base_uri": "https://localhost:8080/",
          "height": 316
        },
        "outputId": "d2d9c34f-40e3-41b3-d1e4-f35e079f3ad7"
      },
      "execution_count": 82,
      "outputs": [
        {
          "output_type": "execute_result",
          "data": {
            "text/plain": [
              "<matplotlib.legend.Legend at 0x7f31870e6fd0>"
            ]
          },
          "metadata": {},
          "execution_count": 82
        },
        {
          "output_type": "display_data",
          "data": {
            "image/png": "[encoded data removed]",
            "text/plain": [
              "<Figure size 432x288 with 1 Axes>"
            ]
          },
          "metadata": {
            "needs_background": "light"
          }
        }
      ]
    }
  ]
}