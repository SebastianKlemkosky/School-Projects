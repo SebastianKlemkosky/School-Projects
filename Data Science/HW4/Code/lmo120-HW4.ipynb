{
  "cells": [
    {
      "cell_type": "markdown",
      "source": [
        "## HW4 Skeleton code"
      ],
      "metadata": {
        "id": "tNk5zZ6Rxs8x"
      }
    },
    {
      "cell_type": "markdown",
      "metadata": {
        "id": "CUaV7F01xm0I"
      },
      "source": [
        "% import necessary modules"
      ]
    },
    {
      "cell_type": "code",
      "execution_count": 271,
      "metadata": {
        "id": "HraadoKLxm0K"
      },
      "outputs": [],
      "source": [
        "import numpy as np\n",
        "import matplotlib.pyplot as plt"
      ]
    },
    {
      "cell_type": "markdown",
      "metadata": {
        "id": "PgZ9xl2Vxm0L"
      },
      "source": [
        "% Q1 setup"
      ]
    },
    {
      "cell_type": "code",
      "execution_count": 272,
      "metadata": {
        "id": "ytYhA9Qsxm0L"
      },
      "outputs": [],
      "source": [
        "import scipy.stats as stats\n",
        "import numpy.random as rn"
      ]
    },
    {
      "cell_type": "code",
      "execution_count": 273,
      "metadata": {
        "id": "K4cx2ZfKxm0M"
      },
      "outputs": [],
      "source": [
        "rn.seed(0)"
      ]
    },
    {
      "cell_type": "markdown",
      "metadata": {
        "id": "EhDNz5Rvxm0N"
      },
      "source": [
        "% Q1a"
      ]
    },
    {
      "cell_type": "code",
      "execution_count": 274,
      "metadata": {
        "id": "M76VzwYxxm0O",
        "colab": {
          "base_uri": "https://localhost:8080/"
        },
        "outputId": "1fec52c8-d4d6-4cc3-ae79-d4aeff88c3f6"
      },
      "outputs": [
        {
          "output_type": "execute_result",
          "data": {
            "text/plain": [
              "array([5, 6, 7, ..., 9, 8, 8])"
            ]
          },
          "metadata": {},
          "execution_count": 274
        }
      ],
      "source": [
        "m = 10**5;  # number of coins\n",
        "N = 16; # number of tosses each coin\n",
        "\n",
        "#use np.random.uniform(see footnote1) to generate a 2d array of 10**5 x 16 random numbers between 0 and 1\n",
        "sim = np.random.uniform(size = (m,N), low = 0, high = 1)\n",
        "\n",
        "# convert values less than 0.5 to True - or “head”, and count the number of heads for each simulated coin.\n",
        "headCounts = np.sum(sim < .5, axis = 1)\n",
        "\n",
        "headCounts"
      ]
    },
    {
      "cell_type": "markdown",
      "metadata": {
        "id": "weZLCI5Gxm0P"
      },
      "source": [
        "Generate headCounts and plot histogram in the cell below"
      ]
    },
    {
      "cell_type": "code",
      "execution_count": 275,
      "metadata": {
        "colab": {
          "base_uri": "https://localhost:8080/",
          "height": 295
        },
        "id": "yNrDbdSFxm0Q",
        "outputId": "3fe77cee-d7a1-418e-abac-b2b1c87d878a"
      },
      "outputs": [
        {
          "output_type": "display_data",
          "data": {
            "text/plain": [
              "<Figure size 432x288 with 1 Axes>"
            ],
            "image/png": "[encoded data removed]"
          },
          "metadata": {
            "needs_background": "light"
          }
        }
      ],
      "source": [
        "plt.figure()\n",
        "plt.title('Q1a: Histogram of head counts')\n",
        "\n",
        "\n",
        "[counts, bin_bounds, _] = plt.hist(headCounts, bins = range(18))\n",
        "\n",
        "plt.xlabel('Number of Heads')\n",
        "plt.ylabel('Occurrences')\n",
        "plt.show()"
      ]
    },
    {
      "cell_type": "markdown",
      "metadata": {
        "id": "bOHYFBEQxm0R"
      },
      "source": [
        "% Q1b"
      ]
    },
    {
      "cell_type": "code",
      "execution_count": 276,
      "metadata": {
        "id": "qN81n_7xxm0R",
        "colab": {
          "base_uri": "https://localhost:8080/",
          "height": 295
        },
        "outputId": "56121061-7cc3-4c39-9202-e7d6a2700077"
      },
      "outputs": [
        {
          "output_type": "display_data",
          "data": {
            "text/plain": [
              "<Figure size 432x288 with 1 Axes>"
            ],
            "image/png": "[encoded data removed]"
          },
          "metadata": {
            "needs_background": "light"
          }
        }
      ],
      "source": [
        "plt.figure()\n",
        "plt.title('Q1b: Probability Mass Function')\n",
        "PMF,_,_ = plt.hist(headCounts, bins = range(18), density = True)\n",
        "\n",
        "\n",
        "plt.xlabel('Number of Heads')\n",
        "plt.ylabel('Probablity')\n",
        "plt.show()"
      ]
    },
    {
      "cell_type": "markdown",
      "metadata": {
        "id": "pcXl_Jqhxm0S"
      },
      "source": [
        "% Q1c"
      ]
    },
    {
      "cell_type": "code",
      "execution_count": 277,
      "metadata": {
        "id": "o9I-Jk3dxm0T",
        "colab": {
          "base_uri": "https://localhost:8080/",
          "height": 295
        },
        "outputId": "cce00ccb-fbc0-41a0-cf45-5548054c7019"
      },
      "outputs": [
        {
          "output_type": "display_data",
          "data": {
            "text/plain": [
              "<Figure size 432x288 with 1 Axes>"
            ],
            "image/png": "[encoded data removed]"
          },
          "metadata": {
            "needs_background": "light"
          }
        }
      ],
      "source": [
        "#Calculate the probability of having NO MORE THAN k heads out of 16 tosses, where k = 0, 1, 2, … 15, 16. Plot\n",
        "#this as an empirical CDF (i.e. the probability is calculated from your experimental results). You can calculate\n",
        "#the probabilities using values returned from 2a/2b by plt.hist, or the CDF code shown in lectures. Label your\n",
        "#plots clearly.\n",
        "\n",
        "\n",
        "plt.figure()\n",
        "plt.title('Q1c: Cumulative Distribution Function')\n",
        "\n",
        "CDF = list()     #This empty list will be populated with the data from the previous PMF histogram\n",
        "#For k calculate the probablity of having No MORE THANK k heads out of 16 (range(17))\n",
        "for k in range(18):\n",
        "  CDF.append(sum(PMF[0:k]))\n",
        "\n",
        "plt.plot(range(18), CDF)\n",
        "\n",
        "\n",
        "plt.xlabel('Number of Heads')\n",
        "plt.ylabel('Cumulative Probablity')\n",
        "plt.show()"
      ]
    },
    {
      "cell_type": "markdown",
      "metadata": {
        "id": "ncQC1a3ixm0U"
      },
      "source": [
        "% Q1d"
      ]
    },
    {
      "cell_type": "code",
      "execution_count": 278,
      "metadata": {
        "id": "o9P8BIDoxm0U",
        "colab": {
          "base_uri": "https://localhost:8080/",
          "height": 295
        },
        "outputId": "886cc44e-2417-4885-f691-ee09958cc0f8"
      },
      "outputs": [
        {
          "output_type": "display_data",
          "data": {
            "text/plain": [
              "<Figure size 432x288 with 1 Axes>"
            ],
            "image/png": "[encoded data removed]"
          },
          "metadata": {
            "needs_background": "light"
          }
        }
      ],
      "source": [
        "#Use the binomial distribution CDF (use scipy.stats.binom.cdf) to compute the theoretical probability (i.e.,\n",
        "#from a formula without tossing thousands of coins – simulation or real) of having NO MORE THAN k heads\n",
        "#out of 16 tosses, where k = 0, 1, 2, …, 15, 16, and compare these probabilities with the probabilities you\n",
        "#obtained in 2c\n",
        "\n",
        "from scipy.stats import binom\n",
        "\n",
        "plt.figure()\n",
        "\n",
        "CDF_Calculated = list()\n",
        "\n",
        "for k in range(18):\n",
        "  CDF_Calculated.append(binom.cdf(k, 16, 0.5))\n",
        "\n",
        "\n",
        "plt.plot(range(18), CDF_Calculated)\n",
        "plt.plot(range(18), CDF)\n",
        "\n",
        "\n",
        "\n",
        "\n",
        "\n",
        "plt.yscale('log')\n",
        "plt.xlabel('Number of Heads')\n",
        "plt.ylabel('Cumulative Probablity')\n",
        "plt.title('Q1d: Empirical vs Theoretical CDF')\n",
        "plt.legend(['Calculated', 'Empirical'])\n",
        "plt.show()"
      ]
    },
    {
      "cell_type": "markdown",
      "metadata": {
        "id": "wWYlQVv3xm0U"
      },
      "source": [
        "% Q1e"
      ]
    },
    {
      "cell_type": "code",
      "execution_count": 279,
      "metadata": {
        "id": "Kic-8lj9xm0V",
        "colab": {
          "base_uri": "https://localhost:8080/",
          "height": 295
        },
        "outputId": "4a928292-1b1c-4247-b5ed-dfdde7fe175b"
      },
      "outputs": [
        {
          "output_type": "display_data",
          "data": {
            "text/plain": [
              "<Figure size 432x288 with 1 Axes>"
            ],
            "image/png": "[encoded data removed]"
          },
          "metadata": {
            "needs_background": "light"
          }
        }
      ],
      "source": [
        "#(Bonus: 5 pts) Make a normal probability plot (thinkstats ch 4.4 and lecture slides / scripts) to show that the\n",
        "#distribution of headCounts is close to a normal distribution with mean 8 and standard deviation 2. \n",
        "from scipy.stats import norm\n",
        "\n",
        "plt.figure()\n",
        "\n",
        "\n",
        "\n",
        "x = stats.norm.rvs(loc=8, scale=2, size=len(headCounts))\n",
        "res = stats.probplot(x, plot=plt)\n",
        "\n",
        "plt.title('Q1e: normal probability plot')\n",
        "plt.xlabel(\"Standard Normal\")\n",
        "plt.ylabel(\"Frequency\")\n",
        "plt.show()"
      ]
    },
    {
      "cell_type": "markdown",
      "metadata": {
        "id": "V3caOylzxm0V"
      },
      "source": [
        "% Q1f"
      ]
    },
    {
      "cell_type": "code",
      "execution_count": 280,
      "metadata": {
        "colab": {
          "base_uri": "https://localhost:8080/",
          "height": 281
        },
        "collapsed": true,
        "id": "kOGZiEawxm0W",
        "outputId": "08920c7f-6db5-4c9d-a80f-f630efaf4ed7"
      },
      "outputs": [
        {
          "output_type": "display_data",
          "data": {
            "text/plain": [
              "<Figure size 432x288 with 1 Axes>"
            ],
            "image/png": "[encoded data removed]"
          },
          "metadata": {
            "needs_background": "light"
          }
        }
      ],
      "source": [
        "#Use normal distribution approximation to calculate the cumulative probabilities that you\n",
        "#were asked to calculate in 2c, and compare the two results using a loglog plot. (The corresponding CDF from\n",
        "#norm distribution can be calculated using scipy.stats.norm.cdf.)\n",
        "\n",
        "plt.figure()\n",
        "\n",
        "\n",
        "\n",
        "\n",
        "\n",
        "\n",
        "plt.legend(['Empirical', 'Theretical'])\n",
        "plt.title('Q1f: Empirical Binom CDF vs Theoretical Norm CDF')\n",
        "plt.show()"
      ]
    },
    {
      "cell_type": "markdown",
      "metadata": {
        "id": "LX55-diNxm0W"
      },
      "source": [
        "% Q2 (2e,2f optional)"
      ]
    },
    {
      "cell_type": "markdown",
      "metadata": {
        "id": "tY4ebHgtxm0W"
      },
      "source": [
        "2a, simulate fair coin and collect headCountsFair"
      ]
    },
    {
      "cell_type": "code",
      "source": [
        "#Similar as in Q1, but simulate the experiment of tossing 1000 fair coins, 10 times for each coin, and\n",
        "#collect the number of heads observed for each coin. The result is 1000 integers between 0 and 10. Call\n",
        "#this vector headCountsFair\n",
        "\n",
        "m = 1000;  # number of coins\n",
        "N = 10; # number of tosses each coin\n",
        "\n",
        "sim = np.random.uniform(size = (m,N), low = 0, high = 1)\n",
        "\n",
        "headCountsFair = np.sum(sim < .5, axis = 1)\n"
      ],
      "metadata": {
        "id": "vUgd5vSxzm17"
      },
      "execution_count": 281,
      "outputs": []
    },
    {
      "cell_type": "markdown",
      "metadata": {
        "id": "RfVIq1kzxm0X"
      },
      "source": [
        "2b, simulate loadd coin and collect headCountsLoaded"
      ]
    },
    {
      "cell_type": "code",
      "source": [
        "#Now simulate the experiment of tossing 1000 loaded coins where p_head = 0.6 (by converting each\n",
        "#random number < 0.6 to head), 10 times each coin to collect the number of heads for each coin. The\n",
        "#result is also 1000 integers between 0 and 10. Call this vector headCountsLoaded.\n",
        "\n",
        "m = 1000;  # number of coins\n",
        "N = 10; # number of tosses each coin\n",
        "\n",
        "sim = np.random.uniform(size = (m,N), low = 0, high = 1)\n",
        "\n",
        "\n",
        "headCountsLoaded = np.sum(sim < .6, axis = 1)\n"
      ],
      "metadata": {
        "id": "SWwGtg1Wzn58"
      },
      "execution_count": 282,
      "outputs": []
    },
    {
      "cell_type": "markdown",
      "metadata": {
        "id": "no1KLLMkxm0X"
      },
      "source": [
        "2c, plot both headCounts on the same figure"
      ]
    },
    {
      "cell_type": "code",
      "source": [
        "#Plot the PMF for headCountsFair and headCountsLoaded on the same histogram (using lines instead of\n",
        "#bars). Label your figure clearly.\n",
        "\n",
        "\n",
        "#PMF_fair,_,_= plt.hist(headCountsFair, bins = range(12), density = True)\n",
        "#plt.close()\n",
        "\n",
        "#PMF_loaded,_,_ = plt.hist(headCountsLoaded, bins = range(12), density = True)\n",
        "#plt.close()\n",
        "\n",
        "#plt.plot(PMF_fair)\n",
        "#plt.plot(PMF_loaded)\n",
        "\n",
        "\n",
        "countsFair = plt.hist(headCountsFair, bins = range(12))\n",
        "plt.close()\n",
        "\n",
        "countsLoaded = plt.hist(headCountsLoaded, bins = range(12))\n",
        "plt.close()\n",
        "\n",
        "bin_centerFair = (countsFair[1][1:]+countsFair[1][:-1])/2\n",
        "bin_centerLoaded = (countsLoaded[1][1:]+countsLoaded[1][:-1])/2\n",
        "\n",
        "plt.plot(bin_centerFair, countsFair[0]/sum(countsFair[0]), \n",
        "     bin_centerLoaded, countsLoaded[0]/sum(countsLoaded[0]))\n",
        "\n",
        "\n",
        "\n",
        "\n",
        "\n",
        "plt.xlabel('Number of Heads')\n",
        "plt.ylabel('Probability')\n",
        "plt.legend(('Fair', 'Loaded'))\n",
        "plt.title(\"PMF: Loaded vs Fair\")\n",
        "plt.show()"
      ],
      "metadata": {
        "id": "GoAjEcx3zrFd",
        "colab": {
          "base_uri": "https://localhost:8080/",
          "height": 295
        },
        "outputId": "c0f317b0-0a76-4641-9664-ba9e2ae0a804"
      },
      "execution_count": 283,
      "outputs": [
        {
          "output_type": "display_data",
          "data": {
            "text/plain": [
              "<Figure size 432x288 with 1 Axes>"
            ],
            "image/png": "[encoded data removed]"
          },
          "metadata": {
            "needs_background": "light"
          }
        }
      ]
    },
    {
      "cell_type": "markdown",
      "metadata": {
        "id": "lFI--MnLxm0X"
      },
      "source": [
        "2d, perform ttest and print out p-value; also print out a statement about whether or not there is statistically significant difference between the two sets of coins"
      ]
    },
    {
      "cell_type": "code",
      "source": [
        "#Perform a t-test between the two vectors and print out the t-statistic and the p-value. Does your t-test\n",
        "#result support the argument that the two sets of coins are different from each other? \n",
        "\n",
        "\n",
        "print(\"These results support the argument that the two sets of coins are different from each other\")\n",
        "#print(\"These results suggest that there is no difference between the sets\")\n",
        "stats.ttest_ind(headCountsFair, headCountsLoaded)\n"
      ],
      "metadata": {
        "id": "hFOXjKoJzr82",
        "colab": {
          "base_uri": "https://localhost:8080/"
        },
        "outputId": "0f56aa34-cf9d-490c-bc3d-af8be3fd7ce0"
      },
      "execution_count": 284,
      "outputs": [
        {
          "output_type": "stream",
          "name": "stdout",
          "text": [
            "These results support the argument that the two sets of coins are different from each other\n"
          ]
        },
        {
          "output_type": "execute_result",
          "data": {
            "text/plain": [
              "Ttest_indResult(statistic=-14.36659160207916, pvalue=1.2935534432009474e-44)"
            ]
          },
          "metadata": {},
          "execution_count": 284
        }
      ]
    },
    {
      "cell_type": "markdown",
      "metadata": {
        "id": "COnh_MoIxm0X"
      },
      "source": [
        "% Q2e (Write a for loop to) repeat Q2a, Q2b and Q2d (with only 10 fair coins and 10 loaded coins) 10 times and count the number of times that you got a p-value <= 0.05"
      ]
    },
    {
      "cell_type": "code",
      "source": [
        ""
      ],
      "metadata": {
        "id": "Z771gpTE1X4L"
      },
      "execution_count": 284,
      "outputs": []
    },
    {
      "cell_type": "markdown",
      "metadata": {
        "id": "XSSDa8vBxm0Y"
      },
      "source": [
        "% Q2f (Write a for loop to) repeat Q2a, Q2b and Q2d 1000 times, but with two sets of coins that are all fair coins, and count number of times that you got a p-value <= 0.05"
      ]
    },
    {
      "cell_type": "code",
      "source": [
        ""
      ],
      "metadata": {
        "id": "dENssQM_1ZLf"
      },
      "execution_count": 284,
      "outputs": []
    },
    {
      "cell_type": "markdown",
      "metadata": {
        "id": "_amE7-g-xm0Y"
      },
      "source": [
        "% Q3 setup"
      ]
    },
    {
      "cell_type": "code",
      "execution_count": 285,
      "metadata": {
        "id": "tFD8vXa-xm0Y"
      },
      "outputs": [],
      "source": [
        "import pandas as pd"
      ]
    },
    {
      "cell_type": "code",
      "execution_count": 286,
      "metadata": {
        "colab": {
          "base_uri": "https://localhost:8080/"
        },
        "id": "1UfRO9oxxm0Z",
        "outputId": "a93f0ed6-0b5f-413f-a1dd-460bed0609fa"
      },
      "outputs": [
        {
          "output_type": "execute_result",
          "data": {
            "text/plain": [
              "(385974, 5)"
            ]
          },
          "metadata": {},
          "execution_count": 286
        }
      ],
      "source": [
        "url = 'https://raw.githubusercontent.com/jianhuaruan/3753/main/'\n",
        "# uncomment below to run locally\n",
        "# url = ''\n",
        "data = pd.read_csv(url + 'brfss2.csv', index_col=0)\n",
        "data = data.drop('wtkg2',axis=1).dropna(axis=0, how='any').values\n",
        "data.shape"
      ]
    },
    {
      "cell_type": "markdown",
      "metadata": {
        "id": "Ia0ETKAYxm0Z"
      },
      "source": [
        "data is now a numpy array and the columns are age, current weight (kg), <br>\n",
        "last year's weight (kg), height (cm), and gender (1: male; 2: female)."
      ]
    },
    {
      "cell_type": "markdown",
      "source": [
        "% Q3a: Display summary statistics of three selected columns"
      ],
      "metadata": {
        "id": "CZY51eEI2rXJ"
      }
    },
    {
      "cell_type": "code",
      "source": [
        "#Display summary statistics:\n",
        "#Print out the min, max, mean, median, mean+std, mean-std of current_weight,\n",
        "#weight_a_year_ago, and height. Format your output in a tabular format (6 rows and 3 columns\n",
        "#of data, with meaningful row and column labels.)\n",
        "\n",
        "df = pd.DataFrame(data, columns = ['Age', 'Current_Weight(kg)', 'Weight_A_Year_Ago(kg)', 'Height(cm)', 'Gender'])\n",
        "\n",
        "summaryStats = df.describe()[['Current_Weight(kg)',\t'Weight_A_Year_Ago(kg)', 'Height(cm)']].iloc[1:,:]\n",
        "summaryStats.loc['median'] = summaryStats.loc['50%']\n",
        "summaryStats.loc['mean + std'] = summaryStats.loc['mean'] + summaryStats.loc['std']\n",
        "summaryStats.loc['mean - std'] = summaryStats.loc['mean'] - summaryStats.loc['std']\n",
        "summaryStats = summaryStats.drop(['std','50%', '25%', '75%'])\n",
        "summaryStats.reindex(['min', 'max', 'mean', 'median', 'mean + std', 'mean - std'])\n",
        "print(summaryStats)"
      ],
      "metadata": {
        "id": "rw3MRxgU2wOa",
        "colab": {
          "base_uri": "https://localhost:8080/"
        },
        "outputId": "822ae83c-5d39-4ace-f8e1-eb0e761ee7e0"
      },
      "execution_count": 287,
      "outputs": [
        {
          "output_type": "stream",
          "name": "stdout",
          "text": [
            "            Current_Weight(kg)  Weight_A_Year_Ago(kg)  Height(cm)\n",
            "mean                 79.061463              79.805186  169.013441\n",
            "min                  20.000000              22.727273   61.000000\n",
            "max                 300.000000             342.272727  236.000000\n",
            "median               77.272727              77.272727  168.000000\n",
            "mean + std           98.575746             100.384058  179.402311\n",
            "mean - std           59.547181              59.226315  158.624571\n"
          ]
        }
      ]
    },
    {
      "cell_type": "markdown",
      "metadata": {
        "id": "fluhdgGKxm0Z"
      },
      "source": [
        "% Q3b: scatter plots and Pearson correlation coefficients"
      ]
    },
    {
      "cell_type": "code",
      "source": [
        "#Define weight_change = (current_weight – weight_a_year_ago). Calculate Pearson correlation between\n",
        "#weight_change and the following variables, and determine which one is most correlated (regardless of\n",
        "#sign of correlation) with weight_change. Make scatter plots to support your conclusion.\n",
        "\n",
        "\n",
        "df_corr = df[['Current_Weight(kg)', 'Weight_A_Year_Ago(kg)', 'Age']].copy()\n",
        "\n",
        "#define weight_change\n",
        "df_corr['Weight_Change'] = df_corr['Current_Weight(kg)'] - df_corr['Weight_A_Year_Ago(kg)']\n",
        "\n",
        "\n",
        "#i. current_weight\n",
        "print(\"Pearson correlation between Weight Change and Current Weight: \")\n",
        "print(np.corrcoef(df_corr['Weight_Change'], df_corr['Current_Weight(kg)'])[1][0])\n",
        "print()\n",
        "plt.figure()\n",
        "plt.title(\"Weight_Change vs Current Weight\" )\n",
        "plt.xlabel(\"Weight Change\")\n",
        "plt.ylabel(\"Current Weight(kg)\")\n",
        "plt.scatter(df_corr['Weight_Change'], df_corr['Current_Weight(kg)'])\n",
        "\n",
        "\n",
        "#ii. weight_a_year_ago\n",
        "print(\"Pearson correlation between Weight Change and Weight A Year Ago(kg): \")\n",
        "print(np.corrcoef(df_corr['Weight_Change'], df_corr['Weight_A_Year_Ago(kg)'])[1][0])\n",
        "print(\"The Peason correlation between Weight Change and Weight A Year Ago is most correlated and the scatter plot graph supports this\")\n",
        "print()\n",
        "plt.figure()\n",
        "plt.title(\"Weight Change vs Weight A Year Ago(kg)\" )\n",
        "plt.xlabel(\"Weight Change\")\n",
        "plt.ylabel(\"Weight A Year Ago(kg)\")\n",
        "plt.scatter(df_corr['Weight_Change'], df_corr['Weight_A_Year_Ago(kg)'])\n",
        "\n",
        "#iii. age\n",
        "print(\"Pearson correlation between Weight Change and Age: \")\n",
        "print(np.corrcoef(df_corr['Weight_Change'], df_corr['Age'])[1][0])\n",
        "print()\n",
        "plt.figure()\n",
        "plt.title(\"Weight_Change vs Age\" )\n",
        "plt.xlabel(\"Weight Change\")\n",
        "plt.ylabel(\"Age\")\n",
        "plt.scatter(df_corr['Weight_Change'], df_corr['Age'])\n",
        "\n",
        "\n",
        "\n"
      ],
      "metadata": {
        "id": "LKUoJutg8XUw",
        "colab": {
          "base_uri": "https://localhost:8080/",
          "height": 1000
        },
        "outputId": "f1105128-0816-4438-ba28-5117e38a475d"
      },
      "execution_count": 288,
      "outputs": [
        {
          "output_type": "stream",
          "name": "stdout",
          "text": [
            "Pearson correlation between Weight Change and Current Weight: \n",
            "0.034132175224082885\n",
            "\n",
            "Pearson correlation between Weight Change and Weight A Year Ago(kg): \n",
            "-0.31911696303346515\n",
            "The Peason correlation between Weight Change and Weight A Year Ago is most correlated and the scatter plot graph supports this\n",
            "\n",
            "Pearson correlation between Weight Change and Age: \n",
            "-0.06867582903526569\n",
            "\n"
          ]
        },
        {
          "output_type": "execute_result",
          "data": {
            "text/plain": [
              "<matplotlib.collections.PathCollection at 0x7fc379455590>"
            ]
          },
          "metadata": {},
          "execution_count": 288
        },
        {
          "output_type": "display_data",
          "data": {
            "text/plain": [
              "<Figure size 432x288 with 1 Axes>"
            ],
            "image/png": "[encoded data removed]"
          },
          "metadata": {
            "needs_background": "light"
          }
        },
        {
          "output_type": "display_data",
          "data": {
            "text/plain": [
              "<Figure size 432x288 with 1 Axes>"
            ],
            "image/png": "[encoded data removed]"
          },
          "metadata": {
            "needs_background": "light"
          }
        },
        {
          "output_type": "display_data",
          "data": {
            "text/plain": [
              "<Figure size 432x288 with 1 Axes>"
            ],
            "image/png": "[encoded data removed]"
          },
          "metadata": {
            "needs_background": "light"
          }
        }
      ]
    },
    {
      "cell_type": "markdown",
      "metadata": {
        "id": "xSn2erZtxm0a"
      },
      "source": [
        "% Q3c: compare weight_change for men and women: mean, SEM, t-test"
      ]
    },
    {
      "cell_type": "code",
      "source": [
        "#Calculate the mean and SEM (standard error of the mean) for the weight_change of male and female,\n",
        "#respectively. Use t-test to test whether there is a significant difference between the weight_change of\n",
        "#male and female.\n",
        "\n",
        "\n",
        "#Get male data\n",
        "male_df = df[df['Gender'] == 1].copy()\n",
        "male_df['Weight_Change'] = male_df['Current_Weight(kg)'] - male_df['Weight_A_Year_Ago(kg)']\n",
        "\n",
        "\n",
        "#Get female data\n",
        "female_df = df[df['Gender'] == 2].copy()\n",
        "female_df['Weight_Change'] = female_df['Current_Weight(kg)'] - female_df['Weight_A_Year_Ago(kg)']\n",
        "\n",
        "\n",
        "#Calculate Mean and SEM for each gender\n",
        "#Standard Error of the Mean (SEM): standard deviation / sqrt(n)\n",
        "\n",
        "#Male\n",
        "print(\"Mean weight change for Males\")\n",
        "print(male_df['Weight_Change'].mean())\n",
        "print(\"Male SEM\")\n",
        "male_SEM = male_df['Weight_Change'].std()/ male_df['Weight_Change'].shape[0]\n",
        "print(male_SEM)\n",
        "\n",
        "print()\n",
        "\n",
        "#Female\n",
        "print(\"Mean weight change for Females\")\n",
        "print(female_df['Weight_Change'].mean())\n",
        "print(\"Female SEM\")\n",
        "female_SEM = female_df['Weight_Change'].std()/ female_df['Weight_Change'].shape[0]\n",
        "print(female_SEM)\n",
        "\n",
        "#T-test\n",
        "print()\n",
        "\n",
        "print(\"The p-value shows that there is a significant difference between the weight_change of male and female.\")\n",
        "stats.ttest_ind(male_df['Weight_Change'], female_df['Weight_Change'])"
      ],
      "metadata": {
        "id": "WBKnxKgE8XzZ",
        "colab": {
          "base_uri": "https://localhost:8080/"
        },
        "outputId": "7b2452da-4478-461a-9273-98097c24e946"
      },
      "execution_count": 289,
      "outputs": [
        {
          "output_type": "stream",
          "name": "stdout",
          "text": [
            "Mean weight change for Males\n",
            "-0.8559857662179234\n",
            "Male SEM\n",
            "4.586123606680526e-05\n",
            "\n",
            "Mean weight change for Females\n",
            "-0.6721114983008951\n",
            "Female SEM\n",
            "3.1574290653835574e-05\n",
            "\n",
            "The p-value shows that there is a significant difference between the weight_change of male and female.\n"
          ]
        },
        {
          "output_type": "execute_result",
          "data": {
            "text/plain": [
              "Ttest_indResult(statistic=-7.701843115268436, pvalue=1.3443372547049559e-14)"
            ]
          },
          "metadata": {},
          "execution_count": 289
        }
      ]
    },
    {
      "cell_type": "markdown",
      "source": [
        "% Q3d: compare weight/height ratio for men and women: mean, SEM, t-test"
      ],
      "metadata": {
        "id": "wBb4vImL71QZ"
      }
    },
    {
      "cell_type": "code",
      "source": [
        "#Define weight_height _ratio as current_weight/height. Calculate the mean and SEM (standard error of\n",
        "#the mean) for the weight_height_ratio of male and female. Use t-test to test whether there is a\n",
        "#significant difference between the weight_height_ratio of male and female. \n",
        "\n",
        "\n",
        "#Get male data\n",
        "male_df = df[df['Gender'] == 1].copy()\n",
        "male_df['Weight_Height_Ratio'] = male_df['Current_Weight(kg)'] / male_df['Height(cm)']\n",
        "\n",
        "print(\"Male Weight Height Ratio Mean:\")\n",
        "print(male_df['Weight_Height_Ratio'].mean())\n",
        "\n",
        "print(\"Male Weight Height Ratio SEM: \")\n",
        "male_SEM = male_df['Weight_Height_Ratio'].std()/ male_df['Weight_Height_Ratio'].shape[0]\n",
        "print(male_SEM)\n",
        "\n",
        "\n",
        "print()\n",
        "\n",
        "#Get female data\n",
        "female_df = df[df['Gender'] == 2].copy()\n",
        "female_df['Weight_Height_Ratio'] = female_df['Current_Weight(kg)'] / female_df['Height(cm)']\n",
        "\n",
        "print(\"Female Weight Height Ratio Mean:\")\n",
        "print(female_df['Weight_Height_Ratio'].mean())\n",
        "\n",
        "print(\"Female Weight Height Ratio SEM: \")\n",
        "female_SEM = female_df['Weight_Height_Ratio'].std()/ female_df['Weight_Height_Ratio'].shape[0]\n",
        "print(female_SEM)\n",
        "\n",
        "print()\n",
        "\n",
        "#T-Test\n",
        "print(\"The p-value shows that there is a significant difference between the weight height ratio of male and female.\")\n",
        "stats.ttest_ind(male_df['Weight_Height_Ratio'], female_df['Weight_Height_Ratio'])"
      ],
      "metadata": {
        "id": "wJ9fBfYk8YdW",
        "colab": {
          "base_uri": "https://localhost:8080/"
        },
        "outputId": "38d1fe29-5d39-4ff8-952b-1b97ec326db7"
      },
      "execution_count": 292,
      "outputs": [
        {
          "output_type": "stream",
          "name": "stdout",
          "text": [
            "Male Weight Height Ratio Mean:\n",
            "0.49917437564030115\n",
            "Male Weight Height Ratio SEM: \n",
            "6.302083297573433e-07\n",
            "\n",
            "Female Weight Height Ratio Mean:\n",
            "0.44479035605452055\n",
            "Female Weight Height Ratio SEM: \n",
            "4.3824168676639484e-07\n",
            "\n",
            "The p-value shows that there is a significant difference between the weight height ratio of male and female.\n"
          ]
        },
        {
          "output_type": "execute_result",
          "data": {
            "text/plain": [
              "Ttest_indResult(statistic=164.6991226748384, pvalue=0.0)"
            ]
          },
          "metadata": {},
          "execution_count": 292
        }
      ]
    },
    {
      "cell_type": "markdown",
      "source": [
        "% Q3e (bonus)"
      ],
      "metadata": {
        "id": "ay0Bz3_38SXE"
      }
    },
    {
      "cell_type": "code",
      "source": [
        "#(bonus: 10pts) Randomly split the subjects into two groups of roughly equal sizes, and use t-test to test\n",
        "#whether there is a significant difference between the weight_change of the two groups. Repeat the\n",
        "#process 1000 times and plot the distribution of the -log10(p-value) of the t-test results. What can you\n",
        "#say about the difference between male and female in terms of their weight_change? (Consider both the\n",
        "#p-value and the absolute differences between the two means.)\n"
      ],
      "metadata": {
        "id": "wbIb_2_t8aaU"
      },
      "execution_count": 291,
      "outputs": []
    },
    {
      "cell_type": "markdown",
      "source": [
        ""
      ],
      "metadata": {
        "id": "owpMsLoKKcxu"
      }
    }
  ],
  "metadata": {
    "kernelspec": {
      "display_name": "Python 3",
      "language": "python",
      "name": "python3"
    },
    "language_info": {
      "codemirror_mode": {
        "name": "ipython",
        "version": 3
      },
      "file_extension": ".py",
      "mimetype": "text/x-python",
      "name": "python",
      "nbconvert_exporter": "python",
      "pygments_lexer": "ipython3",
      "version": "3.6.4"
    },
    "colab": {
      "name": "HW4_skeleton.ipynb",
      "provenance": [],
      "collapsed_sections": []
    }
  },
  "nbformat": 4,
  "nbformat_minor": 0
}