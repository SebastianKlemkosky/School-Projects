{
  "nbformat": 4,
  "nbformat_minor": 0,
  "metadata": {
    "colab": {
      "name": "Copy of t_test_coints.ipynb",
      "provenance": []
    },
    "kernelspec": {
      "name": "python3",
      "display_name": "Python 3"
    },
    "language_info": {
      "name": "python"
    }
  },
  "cells": [
    {
      "cell_type": "code",
      "metadata": {
        "colab": {
          "base_uri": "https://localhost:8080/",
          "height": 295
        },
        "id": "2Zbb2uwxmVO_",
        "outputId": "e118cff9-1b32-4987-9efb-61663a21eccf"
      },
      "source": [
        "import numpy as np\n",
        "from scipy import stats\n",
        "import matplotlib.pyplot as plt\n",
        "np.random.seed(200)\n",
        "numCoins =1000\n",
        "numTrials =10\n",
        "#Q2a, simulate fair coin and collect headCountsFair\n",
        "headCounts = np.sum(np.random.choice(2,(numTrials,numCoins),p=[0.5,0.5]),axis=0)\n",
        "#Q2b, simulate loadd coin and collect headCountsLoaded\n",
        "headCountsLoaded = np.sum(np.random.choice(2,(numTrials,numCoins),p=[0.4,0.6]),axis=0)\n",
        "# #Q2c, plot both headCounts on the same figure\n",
        "# Compute PMF and plot it\n",
        "val, cnt = np.unique(headCounts, return_counts=True)\n",
        "pmf_headCounts = cnt / len(headCounts)\n",
        "plt.plot(val,pmf_headCounts,label=\"headCounts\")\n",
        "\n",
        "val, cnt = np.unique(headCountsLoaded, return_counts=True)\n",
        "pmf_headCountsLoaded = cnt / len(headCountsLoaded)\n",
        "plt.plot(val,pmf_headCountsLoaded,label=\"headCountsLoaded\")\n",
        "\n",
        "plt.xlabel(\"Count of heads\")\n",
        "plt.ylabel(\"PMF\")\n",
        "plt.title(\"Histogram of PMF with lines\")\n",
        "plt.legend()\n",
        "plt.show()"
      ],
      "execution_count": null,
      "outputs": [
        {
          "output_type": "display_data",
          "data": {
            "text/plain": [
              "<Figure size 432x288 with 1 Axes>"
            ],
            "image/png": "[encoded data removed]"
          },
          "metadata": {
            "needs_background": "light"
          }
        }
      ]
    },
    {
      "cell_type": "code",
      "metadata": {
        "colab": {
          "base_uri": "https://localhost:8080/"
        },
        "id": "B2OkFz02pQZe",
        "outputId": "e3eb7691-80db-4e1a-9cb6-e55716e43801"
      },
      "source": [
        "# #Q2d, perform ttest and print out p-value\n",
        "pvalue = stats.ttest_ind(pmf_headCounts,pmf_headCountsLoaded).pvalue\n",
        "statistic = stats.ttest_ind(pmf_headCounts,pmf_headCountsLoaded).statistic\n",
        "print(f\"The value of p-value = {pvalue:.2f} and t-value = {statistic:.10f}\")\n",
        "print('\\nIt tells us that two sets of coins are different from each other')"
      ],
      "execution_count": null,
      "outputs": [
        {
          "output_type": "stream",
          "name": "stdout",
          "text": [
            "The value of p-value = 0.63 and t-value = -0.4928890358\n",
            "\n",
            "It tells us that two sets of coins are different from each other\n"
          ]
        }
      ]
    },
    {
      "cell_type": "code",
      "metadata": {
        "colab": {
          "base_uri": "https://localhost:8080/"
        },
        "id": "sSkNlYNzqVa0",
        "outputId": "af0d2937-aa51-4900-caba-abcdbdba8141"
      },
      "source": [
        "#%% Q2e Repeat Q2a, Q2b and Q2d (with only 10 coins) 10 times and count number of p-values <= 0.05\n",
        "count=0\n",
        "# Change the number of coins\n",
        "numCoins=10\n",
        "# Repeat the stpes\n",
        "for _ in range(10):\n",
        "  headCounts = np.sum(np.random.choice(2,(numTrials,numCoins),p=[0.5,0.5]),axis=0)\n",
        "  headCountsLoaded = np.sum(np.random.choice(2,(numTrials,numCoins),p=[0.4,0.6]),axis=0)\n",
        "  val, cnt = np.unique(headCounts, return_counts=True)\n",
        "  pmf_headCounts = cnt / len(headCounts)\n",
        "  val, cnt = np.unique(headCountsLoaded, return_counts=True)\n",
        "  pmf_headCountsLoaded = cnt / len(headCountsLoaded)\n",
        "  pvalue = stats.ttest_ind(pmf_headCounts,pmf_headCountsLoaded).pvalue\n",
        "  if pvalue<=0.05:\n",
        "    count+=1\n",
        "# Print the results\n",
        "print(\"Number of times  t-test p-value is <= 0.05 =\",count)\n",
        "print(\"Number of times t-test told that two boxes of coins are different from each other =\",(10-count))"
      ],
      "execution_count": null,
      "outputs": [
        {
          "output_type": "stream",
          "name": "stdout",
          "text": [
            "Number of times  t-test p-value is <= 0.05 = 0\n",
            "Number of times t-test told that two boxes of coins are different from each other = 10\n"
          ]
        }
      ]
    },
    {
      "cell_type": "code",
      "metadata": {
        "colab": {
          "base_uri": "https://localhost:8080/"
        },
        "id": "gl50lolLrqxK",
        "outputId": "2dca8c8f-7660-4d37-cc90-132a850a933b"
      },
      "source": [
        "#%% Q2e Repeat Q2a, Q2b and Q2d 1000 times and count number of p-values <= 0.05\n",
        "count=0\n",
        "numCoins=1000\n",
        "for _ in range(1000):\n",
        "  headCounts = np.sum(np.random.choice(2,(numCoins,numTrials),p=[0.5,0.5]),axis=0)\n",
        "  headCountsLoaded = np.sum(np.random.choice(2,(numCoins,numTrials),p=[0.5,0.5]),axis=0)\n",
        "  val, cnt = np.unique(headCounts, return_counts=True)\n",
        "  pmf_headCounts = cnt / len(headCounts)\n",
        "  val, cnt = np.unique(headCountsLoaded, return_counts=True)\n",
        "  pmf_headCountsLoaded = cnt / len(headCountsLoaded)\n",
        "  pvalue = stats.ttest_ind(pmf_headCounts,pmf_headCountsLoaded).pvalue\n",
        "  if pvalue<=0.05:\n",
        "    count+=1\n",
        "print(\"Number of times  t-test p-value is <= 0.05 =\",count)\n",
        "print(\"Number of times t-test told that two boxes of coins are different from each other =\",(1000-count))"
      ],
      "execution_count": null,
      "outputs": [
        {
          "output_type": "stream",
          "name": "stdout",
          "text": [
            "Number of times  t-test p-value is <= 0.05 = 7\n",
            "Number of times t-test told that two boxes of coins are different from each other = 993\n"
          ]
        }
      ]
    }
  ]
}